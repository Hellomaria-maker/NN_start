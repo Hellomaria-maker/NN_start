{
  "nbformat": 4,
  "nbformat_minor": 0,
  "metadata": {
    "colab": {
      "name": "NN_Keras.ipynb",
      "provenance": [],
      "authorship_tag": "ABX9TyPI+pNubxYrZHilUH2Y6inJ",
      "include_colab_link": true
    },
    "kernelspec": {
      "name": "python3",
      "display_name": "Python 3"
    },
    "language_info": {
      "name": "python"
    }
  },
  "cells": [
    {
      "cell_type": "markdown",
      "metadata": {
        "id": "view-in-github",
        "colab_type": "text"
      },
      "source": [
        "<a href=\"https://colab.research.google.com/github/Hellomaria-maker/NN_start/blob/main/NN_Keras.ipynb\" target=\"_parent\"><img src=\"https://colab.research.google.com/assets/colab-badge.svg\" alt=\"Open In Colab\"/></a>"
      ]
    },
    {
      "cell_type": "markdown",
      "source": [
        "**Sequential** - это класс последовательности слоев в нейронной сети, у нас пока будет только один слой, но сюда можно добавлять сколь угодно слоев и это будет сеть, состоящая из последовательности слоев.\n",
        "\n",
        "**Dense** - это класс полносвязного/линейного слоя, все нейроны связаны друг с другом.\n",
        "\n",
        "**units=1**- это количество нейронов в слое. У нас 1 нейрон.\n",
        "\n",
        "**input_shape=(1,)** - это входная размерность объекта. У нас только 1 вход.\n",
        "activation='relu' - это функция активации, которая добавляет в слой нелинейности, именно из-за неё мы можем получать более сложные результаты работы сети."
      ],
      "metadata": {
        "id": "4dp1oSbQDTc0"
      }
    },
    {
      "cell_type": "code",
      "source": [
        "from keras.layers import Dense\n",
        "from keras.models import Sequential # значит сигнал последовательно идет от входа к выходу и нигде не зацыкливается, нет рекурсий\n",
        "\n",
        "model = Sequential([\n",
        "    Dense(1, input_shape=(1,), activation='relu')\n",
        "]) # в класс последовательности слоев передадим один полносвязный слой из одного нейрона и один вход \n",
        "\n",
        "model.summary()"
      ],
      "metadata": {
        "colab": {
          "base_uri": "https://localhost:8080/"
        },
        "id": "yivQJdzhDZYK",
        "outputId": "122debf0-c224-4c42-b5db-8bbbfe89935a"
      },
      "execution_count": 1,
      "outputs": [
        {
          "output_type": "stream",
          "name": "stdout",
          "text": [
            "Model: \"sequential\"\n",
            "_________________________________________________________________\n",
            " Layer (type)                Output Shape              Param #   \n",
            "=================================================================\n",
            " dense (Dense)               (None, 1)                 2         \n",
            "                                                                 \n",
            "=================================================================\n",
            "Total params: 2\n",
            "Trainable params: 2\n",
            "Non-trainable params: 0\n",
            "_________________________________________________________________\n"
          ]
        }
      ]
    },
    {
      "cell_type": "code",
      "source": [
        "model.get_weights()"
      ],
      "metadata": {
        "colab": {
          "base_uri": "https://localhost:8080/"
        },
        "id": "VivFdETRGjr6",
        "outputId": "fa91d682-c344-4595-d6ee-7a56c6bc9e43"
      },
      "execution_count": 2,
      "outputs": [
        {
          "output_type": "execute_result",
          "data": {
            "text/plain": [
              "[array([[-0.9368861]], dtype=float32), array([0.], dtype=float32)]"
            ]
          },
          "metadata": {},
          "execution_count": 2
        }
      ]
    },
    {
      "cell_type": "code",
      "source": [
        "# Если хотим зафиксировать веса\n",
        "import tensorflow as tf\n",
        "tf.random.set_seed(1)\n",
        "\n",
        "model = Sequential([\n",
        "    Dense(1, input_shape=(1,), activation='relu')\n",
        "])\n",
        "\n",
        "model.get_weights()"
      ],
      "metadata": {
        "colab": {
          "base_uri": "https://localhost:8080/"
        },
        "id": "BhcDZ6ZxGkJy",
        "outputId": "cb07e001-7b7c-4acc-f79b-a215adc7d07a"
      },
      "execution_count": 4,
      "outputs": [
        {
          "output_type": "execute_result",
          "data": {
            "text/plain": [
              "[array([[-1.1600207]], dtype=float32), array([0.], dtype=float32)]"
            ]
          },
          "metadata": {},
          "execution_count": 4
        }
      ]
    },
    {
      "cell_type": "markdown",
      "source": [
        "# Нейрон для умножения на 3"
      ],
      "metadata": {
        "id": "sw0iYRZyHfJj"
      }
    },
    {
      "cell_type": "code",
      "source": [
        "# Обучающие данные\n",
        "import numpy as np\n",
        "\n",
        "X = np.array([[1], [3], [2], [10], [4], [7], [8]])\n",
        "y = np.array([[3, 9, 6, 30, 12, 21, 24]]).T"
      ],
      "metadata": {
        "id": "eVIbROOKG85a"
      },
      "execution_count": 5,
      "outputs": []
    },
    {
      "cell_type": "code",
      "source": [
        "# Архитектура сети - ондин слой, один нейрон\n",
        "model = Sequential([\n",
        "    Dense(1, input_shape=(1,), activation='linear') # линейная активация\n",
        "])\n",
        "\n",
        "model.summary() # веса два так как есть еще отклонение (bias)"
      ],
      "metadata": {
        "colab": {
          "base_uri": "https://localhost:8080/"
        },
        "id": "HwUiqBPRHmcw",
        "outputId": "70e6127b-da17-4b1a-be49-3dc6885bb5fa"
      },
      "execution_count": 6,
      "outputs": [
        {
          "output_type": "stream",
          "name": "stdout",
          "text": [
            "Model: \"sequential_3\"\n",
            "_________________________________________________________________\n",
            " Layer (type)                Output Shape              Param #   \n",
            "=================================================================\n",
            " dense_3 (Dense)             (None, 1)                 2         \n",
            "                                                                 \n",
            "=================================================================\n",
            "Total params: 2\n",
            "Trainable params: 2\n",
            "Non-trainable params: 0\n",
            "_________________________________________________________________\n"
          ]
        }
      ]
    },
    {
      "cell_type": "code",
      "source": [
        "w1, w0 = model.get_weights()\n",
        "w1,  # [вес при признаке],[bias]"
      ],
      "metadata": {
        "colab": {
          "base_uri": "https://localhost:8080/"
        },
        "id": "UaI5wt-OH7e1",
        "outputId": "606bf9c4-0b47-488e-8007-b704f7a099e6"
      },
      "execution_count": 7,
      "outputs": [
        {
          "output_type": "execute_result",
          "data": {
            "text/plain": [
              "(array([[0.03501177]], dtype=float32), array([0.], dtype=float32))"
            ]
          },
          "metadata": {},
          "execution_count": 7
        }
      ]
    },
    {
      "cell_type": "code",
      "source": [
        "# предсказание модели для одного обьекта\n",
        "model.predict(X[:1])"
      ],
      "metadata": {
        "colab": {
          "base_uri": "https://localhost:8080/"
        },
        "id": "GPBYDuyWPlnG",
        "outputId": "1bf5e08c-927d-479d-a096-ec4dce97c52b"
      },
      "execution_count": 8,
      "outputs": [
        {
          "output_type": "execute_result",
          "data": {
            "text/plain": [
              "array([[0.03501177]], dtype=float32)"
            ]
          },
          "metadata": {},
          "execution_count": 8
        }
      ]
    },
    {
      "cell_type": "code",
      "source": [
        "# что проиходит внутри predict\n",
        "w1 * X[:1] + w0\n",
        "\n",
        "from keras.activations import linear\n",
        "linear(w1 * X[:1] + w0)"
      ],
      "metadata": {
        "colab": {
          "base_uri": "https://localhost:8080/"
        },
        "id": "N9oMYnu6QXPW",
        "outputId": "3932187d-1e20-40a9-8024-88bf4b4c5e08"
      },
      "execution_count": 9,
      "outputs": [
        {
          "output_type": "execute_result",
          "data": {
            "text/plain": [
              "array([[0.03501177]])"
            ]
          },
          "metadata": {},
          "execution_count": 9
        }
      ]
    },
    {
      "cell_type": "markdown",
      "source": [
        "## Оптимизация\n",
        "Хотим оптимизировать (уменьшать) функцию потерь Mean Squared Error (MSE), метрика Mean Absolute Error (MAE)"
      ],
      "metadata": {
        "id": "-2YPO_nqRFH9"
      }
    },
    {
      "cell_type": "code",
      "source": [
        "# оптимизируем mse с помощью sgd \n",
        "model.compile(optimizer='sgd', loss='mse', metrics='mae') "
      ],
      "metadata": {
        "id": "nekE5Ca_Q7IH"
      },
      "execution_count": 11,
      "outputs": []
    },
    {
      "cell_type": "code",
      "source": [
        "%%time\n",
        "model.fit(X, y, epochs=100)"
      ],
      "metadata": {
        "id": "KMUpfNBMSRaX"
      },
      "execution_count": null,
      "outputs": []
    },
    {
      "cell_type": "code",
      "source": [
        "# Как модель работает на новых данных:\n",
        "user_inp1, user_inp2 = 5, -9\n",
        "print(f\"Проверка на новых данных: {user_inp1} {user_inp2}\")\n",
        "print(\"Предсказание нейронной сети: \")\n",
        "print(model.predict(np.array([[user_inp1], [user_inp2]])))"
      ],
      "metadata": {
        "colab": {
          "base_uri": "https://localhost:8080/"
        },
        "id": "I4_x3GymSR9j",
        "outputId": "0e252c78-133e-4dd3-ba83-9b142df6bdcf"
      },
      "execution_count": 13,
      "outputs": [
        {
          "output_type": "stream",
          "name": "stdout",
          "text": [
            "Проверка на новых данных: 5 -9\n",
            "Предсказание нейронной сети: \n",
            "[[ 15.066688]\n",
            " [-26.438816]]\n"
          ]
        }
      ]
    },
    {
      "cell_type": "code",
      "source": [
        "# Как поменялись веса после обучения:\n",
        "nw1, nw0 = model.get_weights()\n",
        "print('w1 before', w1, 'w1 after', nw1)\n",
        "print('w0 before', w0, 'w0 after', nw0)"
      ],
      "metadata": {
        "colab": {
          "base_uri": "https://localhost:8080/"
        },
        "id": "wMCzlJuES6hY",
        "outputId": "3ab5b7b9-5929-4b00-ae99-b830c530f495"
      },
      "execution_count": 14,
      "outputs": [
        {
          "output_type": "stream",
          "name": "stdout",
          "text": [
            "w1 before [[0.03501177]] w1 after [[2.9646788]]\n",
            "w0 before [0.] w0 after [0.2432937]\n"
          ]
        }
      ]
    },
    {
      "cell_type": "code",
      "source": [
        "import pandas as pd\n",
        "\n",
        "pd.DataFrame({\n",
        "   'true': np.squeeze(y),\n",
        "   'pred': np.squeeze(model.predict(X))\n",
        "})"
      ],
      "metadata": {
        "colab": {
          "base_uri": "https://localhost:8080/",
          "height": 269
        },
        "id": "mx7WWq5-TJSI",
        "outputId": "7cb61337-78d0-4540-b88c-83da0c09d305"
      },
      "execution_count": 15,
      "outputs": [
        {
          "output_type": "execute_result",
          "data": {
            "text/plain": [
              "   true       pred\n",
              "0     3   3.207973\n",
              "1     9   9.137330\n",
              "2     6   6.172651\n",
              "3    30  29.890081\n",
              "4    12  12.102009\n",
              "5    21  20.996044\n",
              "6    24  23.960724"
            ],
            "text/html": [
              "\n",
              "  <div id=\"df-68e75725-6cd3-488d-9a3d-fc3d6fe7d648\">\n",
              "    <div class=\"colab-df-container\">\n",
              "      <div>\n",
              "<style scoped>\n",
              "    .dataframe tbody tr th:only-of-type {\n",
              "        vertical-align: middle;\n",
              "    }\n",
              "\n",
              "    .dataframe tbody tr th {\n",
              "        vertical-align: top;\n",
              "    }\n",
              "\n",
              "    .dataframe thead th {\n",
              "        text-align: right;\n",
              "    }\n",
              "</style>\n",
              "<table border=\"1\" class=\"dataframe\">\n",
              "  <thead>\n",
              "    <tr style=\"text-align: right;\">\n",
              "      <th></th>\n",
              "      <th>true</th>\n",
              "      <th>pred</th>\n",
              "    </tr>\n",
              "  </thead>\n",
              "  <tbody>\n",
              "    <tr>\n",
              "      <th>0</th>\n",
              "      <td>3</td>\n",
              "      <td>3.207973</td>\n",
              "    </tr>\n",
              "    <tr>\n",
              "      <th>1</th>\n",
              "      <td>9</td>\n",
              "      <td>9.137330</td>\n",
              "    </tr>\n",
              "    <tr>\n",
              "      <th>2</th>\n",
              "      <td>6</td>\n",
              "      <td>6.172651</td>\n",
              "    </tr>\n",
              "    <tr>\n",
              "      <th>3</th>\n",
              "      <td>30</td>\n",
              "      <td>29.890081</td>\n",
              "    </tr>\n",
              "    <tr>\n",
              "      <th>4</th>\n",
              "      <td>12</td>\n",
              "      <td>12.102009</td>\n",
              "    </tr>\n",
              "    <tr>\n",
              "      <th>5</th>\n",
              "      <td>21</td>\n",
              "      <td>20.996044</td>\n",
              "    </tr>\n",
              "    <tr>\n",
              "      <th>6</th>\n",
              "      <td>24</td>\n",
              "      <td>23.960724</td>\n",
              "    </tr>\n",
              "  </tbody>\n",
              "</table>\n",
              "</div>\n",
              "      <button class=\"colab-df-convert\" onclick=\"convertToInteractive('df-68e75725-6cd3-488d-9a3d-fc3d6fe7d648')\"\n",
              "              title=\"Convert this dataframe to an interactive table.\"\n",
              "              style=\"display:none;\">\n",
              "        \n",
              "  <svg xmlns=\"http://www.w3.org/2000/svg\" height=\"24px\"viewBox=\"0 0 24 24\"\n",
              "       width=\"24px\">\n",
              "    <path d=\"M0 0h24v24H0V0z\" fill=\"none\"/>\n",
              "    <path d=\"M18.56 5.44l.94 2.06.94-2.06 2.06-.94-2.06-.94-.94-2.06-.94 2.06-2.06.94zm-11 1L8.5 8.5l.94-2.06 2.06-.94-2.06-.94L8.5 2.5l-.94 2.06-2.06.94zm10 10l.94 2.06.94-2.06 2.06-.94-2.06-.94-.94-2.06-.94 2.06-2.06.94z\"/><path d=\"M17.41 7.96l-1.37-1.37c-.4-.4-.92-.59-1.43-.59-.52 0-1.04.2-1.43.59L10.3 9.45l-7.72 7.72c-.78.78-.78 2.05 0 2.83L4 21.41c.39.39.9.59 1.41.59.51 0 1.02-.2 1.41-.59l7.78-7.78 2.81-2.81c.8-.78.8-2.07 0-2.86zM5.41 20L4 18.59l7.72-7.72 1.47 1.35L5.41 20z\"/>\n",
              "  </svg>\n",
              "      </button>\n",
              "      \n",
              "  <style>\n",
              "    .colab-df-container {\n",
              "      display:flex;\n",
              "      flex-wrap:wrap;\n",
              "      gap: 12px;\n",
              "    }\n",
              "\n",
              "    .colab-df-convert {\n",
              "      background-color: #E8F0FE;\n",
              "      border: none;\n",
              "      border-radius: 50%;\n",
              "      cursor: pointer;\n",
              "      display: none;\n",
              "      fill: #1967D2;\n",
              "      height: 32px;\n",
              "      padding: 0 0 0 0;\n",
              "      width: 32px;\n",
              "    }\n",
              "\n",
              "    .colab-df-convert:hover {\n",
              "      background-color: #E2EBFA;\n",
              "      box-shadow: 0px 1px 2px rgba(60, 64, 67, 0.3), 0px 1px 3px 1px rgba(60, 64, 67, 0.15);\n",
              "      fill: #174EA6;\n",
              "    }\n",
              "\n",
              "    [theme=dark] .colab-df-convert {\n",
              "      background-color: #3B4455;\n",
              "      fill: #D2E3FC;\n",
              "    }\n",
              "\n",
              "    [theme=dark] .colab-df-convert:hover {\n",
              "      background-color: #434B5C;\n",
              "      box-shadow: 0px 1px 3px 1px rgba(0, 0, 0, 0.15);\n",
              "      filter: drop-shadow(0px 1px 2px rgba(0, 0, 0, 0.3));\n",
              "      fill: #FFFFFF;\n",
              "    }\n",
              "  </style>\n",
              "\n",
              "      <script>\n",
              "        const buttonEl =\n",
              "          document.querySelector('#df-68e75725-6cd3-488d-9a3d-fc3d6fe7d648 button.colab-df-convert');\n",
              "        buttonEl.style.display =\n",
              "          google.colab.kernel.accessAllowed ? 'block' : 'none';\n",
              "\n",
              "        async function convertToInteractive(key) {\n",
              "          const element = document.querySelector('#df-68e75725-6cd3-488d-9a3d-fc3d6fe7d648');\n",
              "          const dataTable =\n",
              "            await google.colab.kernel.invokeFunction('convertToInteractive',\n",
              "                                                     [key], {});\n",
              "          if (!dataTable) return;\n",
              "\n",
              "          const docLinkHtml = 'Like what you see? Visit the ' +\n",
              "            '<a target=\"_blank\" href=https://colab.research.google.com/notebooks/data_table.ipynb>data table notebook</a>'\n",
              "            + ' to learn more about interactive tables.';\n",
              "          element.innerHTML = '';\n",
              "          dataTable['output_type'] = 'display_data';\n",
              "          await google.colab.output.renderOutput(dataTable, element);\n",
              "          const docLink = document.createElement('div');\n",
              "          docLink.innerHTML = docLinkHtml;\n",
              "          element.appendChild(docLink);\n",
              "        }\n",
              "      </script>\n",
              "    </div>\n",
              "  </div>\n",
              "  "
            ]
          },
          "metadata": {},
          "execution_count": 15
        }
      ]
    },
    {
      "cell_type": "markdown",
      "source": [
        "# Сеть для классификации изображений"
      ],
      "metadata": {
        "id": "Ots0Y3sHUXM7"
      }
    },
    {
      "cell_type": "code",
      "source": [
        "X1 = np.random.randint(1, 10, size=50)\n",
        "X2 = np.random.randint(1, 10, size=50)\n",
        "\n",
        "y = X1 + X2"
      ],
      "metadata": {
        "id": "GzWApP8RUZuU"
      },
      "execution_count": 18,
      "outputs": []
    },
    {
      "cell_type": "code",
      "source": [
        "X = np.vstack([X1, X2]).T\n",
        "# X\n",
        "y = y[None]\n",
        "y = y.T\n",
        "# y"
      ],
      "metadata": {
        "id": "Zr6WfuwbUk2c"
      },
      "execution_count": 20,
      "outputs": []
    },
    {
      "cell_type": "code",
      "source": [
        "# Данные необходимо нормализовать\n",
        "from sklearn.preprocessing import MinMaxScaler\n",
        "\n",
        "mms = MinMaxScaler()\n",
        "X_norm = mms.fit_transform(X)"
      ],
      "metadata": {
        "id": "WjeD_0QUUoqC"
      },
      "execution_count": 21,
      "outputs": []
    },
    {
      "cell_type": "code",
      "source": [
        "# Архитектура сети\n",
        "\n",
        "tf.random.set_seed(9)\n",
        "\n",
        "model = Sequential([\n",
        "    Dense(3, input_shape=(2,), activation='linear'),\n",
        "    Dense(1, activation='linear')\n",
        "]) # два полносвязных слоя, линейные активации, два входа, три нейрона и один выход\n",
        "\n",
        "model.summary()"
      ],
      "metadata": {
        "colab": {
          "base_uri": "https://localhost:8080/"
        },
        "id": "q4CeV-puVIDX",
        "outputId": "6f3422a4-a10f-4c3c-aa73-a2e46f061642"
      },
      "execution_count": 23,
      "outputs": [
        {
          "output_type": "stream",
          "name": "stdout",
          "text": [
            "Model: \"sequential_4\"\n",
            "_________________________________________________________________\n",
            " Layer (type)                Output Shape              Param #   \n",
            "=================================================================\n",
            " dense_4 (Dense)             (None, 3)                 9         \n",
            "                                                                 \n",
            " dense_5 (Dense)             (None, 1)                 4         \n",
            "                                                                 \n",
            "=================================================================\n",
            "Total params: 13\n",
            "Trainable params: 13\n",
            "Non-trainable params: 0\n",
            "_________________________________________________________________\n"
          ]
        }
      ]
    },
    {
      "cell_type": "markdown",
      "source": [
        "![image.png](data:image/png;base64,iVBORw0KGgoAAAANSUhEUgAAA0UAAAH+CAIAAADcdzJ9AAAgAElEQVR4nOzdeUBU5f4/8M9sMCwig+wiCK6AG6CiuKNWYotaWYklpa1a/UqrWy6VW7fS+t7U7FYWeMUyc8kFygVcMUQWRUQEBUEcNgERYZj19weEzJkBZmD2eb/+yR5mzjkchpk3n2djKRQKAgAAAACzxTb2BQAAAABAtyDPAQAAAJg35DkAAAAA84Y8BwAAAGDekOcAAAAAzBvyHAAAAIB5Q54DAAAAMG/IcwAAAADmDXkOAAAAwLwhzwEAAACYN+Q5AAAAAPOGPAcAAABg3pDnAAAAAMwb8hwAAACAeUOeAwAAADBvyHMAAAAA5g15DgAAAMC8Ic8BAAAAmDfkOQAAAADzhjwHAAAAYN6Q5wAAAADMG/IcAAAAgHlDngMAAAAwb8hzAAAAAOYNeQ4AAADAvCHPAQAAAJg35DkAAAAA84Y8BwAAAGDekOcAAAAAzBvyHAAAAIB5Q54DAAAAMG9cY18AALSrQaKobaR7IsV9saJRQmKZQionhYJYLOKyyYbDsuORgy3LyZblbMey4xn7cgEAwEiQ5wBMxZ37iqIaeUmt4vZdedk9RUW9okGs0PzpDjYsd0eWpxOrd092H2dWXxe2wI6lv6sFAADTwVIotPjAAADdEtYprpTL8irk+ZXyOw06/mV0c2QNcGUPdmcHeXLcHZHtAAAsFvIcgBHkVcozb8mybstu3zXQL2AfZ/aI3uzQ3px+rhg1CwBgaZDnAAyn9K7iXJE0tVhWfs9ov3fePdnhvpyIvhyPHqjYAQBYCOQ5AENILZadvC67LJQZ+0IeGNGbMymAE9aHY+wLAQCA7kKeA9AjBdHRPOlfedLKehP9RfPpyZ46kDN1AKZGAQCYMeQ5AH1JzJUmXpXWNprBr1gvB9aMwdyHBiHVAQCYJeQ5AN07eV12IEdisjW59ng6sR4P5o33Rw8sAICZQZ4D0KXccvmeS5JrlXJjX0jXBXmwnxzGG+CGabAAAGYDeQ5ANyQy+jVTcvSa1NgXohszBnOfDeGxMAUWAMAcIM8B6EDGLdnODEmFuXWwdszLiRUdxhvmhe5XAABThzwH0F2/ZEoScy2kLKfqsWDu08OxNSwAgElDngPoOmGdYluq2KxHy2kiyJO9cLSNG3YMAwAwVchzAF10oUT2w9+SRolV/Ab1sGW9PIY3ojf6XgEATBHyHEBXJOZKf8mUGPsqDO35MN50rFEHAGB6kOcAtPZLhiTxqsUOmOvYo0HcuSMwnA4AwLQgzwFo54e/xadvmNA2rIY3uT/3pdGIdAAAJgR5DkALW86KU29adZhrNrYv5/UIG2NfBQAAtECeA9DU5jPi88UIcy3C/TiLxyHSAQCYBGzpA6CRrSkIc0pSb8r+e05s7KsAAAAi5DkATcSel5wrQphjOlsoi0uzukm+AAAmCHkOoBN7LkmSCqx0NmunjudL92Xj5gAAGBnyHEBHThRI/7iMvNKRfdmSk9dRvAQAMCbkOYB25ZbLfzqP/sTObUsV51VY+KZnAACmDHkOQL36JsWPqRjvr6kfU8UNYkyWBwAwDuQ5APV+Pi+prEdA0VT5PcXPqGUCABgJ8hyAGom50rQSjAnTTmqx7K88jDUEADAC5DkApps18l8yUWrqivh0SUktBtIBABga8hwA084MhLmu+wV3DwDA4JDnAJT8dVWaW44KU9ddLpMfu4ZeVwAAg0KeA3igplGx+yLKS921+6K0ToSpJAAAhoM8B/DA3ktSMWZBdFujRIFNIwAADAl5DqBFQZX85HWkEN04ni8trEa3NQCAgSDPAbQ4mIMwp0uHcD8BAAwFeQ6AiCinTJ5Ziq5WXUorkWETMAAAw0CeAyAi+usqikm6h+WFAQAMA3kOgPKr5Fm3UZzTvQslsiKMogMA0D/kOQBKykcZSV+O5yMoAwDoHfIcWLvqBsXZQmQOfTl5HWvRAQDoHfIcWLvTNxDm9At3GABA35DnwNqdKURnq36dvIE7DACgX8hzYNVyyuTl99AbqF9ldYq8SsyKAADQI+Q5sGrni9EVaAhpuM8AAPqEPAdW7UIJcoYh4D4DAOgV8hxYr5wy+b0mdLYaQnUDulwBAPQIeQ6s1yUhikaGcwkrNgMA6A3yHFivy0JUjAznchnuNgCAviDPgZWqaVCU1CJhGE7hHfRuAwDoC/IcWKlrGM5lcNcqcM8BAPQCeQ6sVEEVsoWh4Z4DAOgJ8hxYqcJqZAtDu4F7DgCgH8hzYKVu1iBbGNrNGoyfAwDQC+Q5sEZl9xRN2FPU4BrEiqr7iHQAALqHPAfWSFiH4pxx3MadBwDQA+Q5sEbl91AlMg7ceQAAfUCeA2uEXj9jqarHnQcA0D3kObBGNQ1IFcZR3Yg7DwCge8hzYI1qRUgVxnEXeQ4AQA+Q58Aa1WPjKSO512TsKwAAsETIc2CNGsTGvgJr1SBGkgYA0D3kObBGIilShXHgzgMA6APyHFgjLCZsLCIJEZFISnkVWIgOAEBnkOfA6iiI7JsajX0V1iv9luyjw6L4DImxLwQAwHIgz4F1uVF/Y9+aVxps7Yx9IVZKQfSfU+Kq+4qiavmuLEQ6AADdQJ4DayGWiz+5/MlvH0VPzOAb+1qAiOjwFellIXpdAQB0AHkOrMKPN34MTAjsteX4v1KGOfr4GvtyoEV8hkSBCRIAAN2GPAcW7k/hn5OSJr2Z/uZH+33fTAsiIn5v7x62LGNfl5ViK9/40rtyDKQDAOg+rrEvAEBfLt+9/NmVz/be2ktEPx0a/1xOQMsXPFzsbbCwrXE427GqlTdbO5InDfZkh/TmGOuSAAAsAOpzYIHuSu5+cPGDUUdGNYe5X/dNfhDmiMhT4Ij6nJH0cmA9PIj5Z+SOdIkYK8gAAHQD8hxYmk35mwITAr+59g0R2Uk5B36b9sQ15QFzni49+chzxtGTz4oO4/n0VHrnqaxX7ECvKwBANyDPgeXYd2vf6COj3896v0ZcQ0S9Gm0P7Zo+vdCb+TgPFxd75DnjENiziCg6jMdoP1EgTS2WGeOKAAAsAfIcWIK06rQ5Z+bMOzcv+252c4tvncOhXdMjbrmrebSnSy8H5DnjcHVgEVGwJ/vRIGava3y6pB67uwIAdAnyHJg3oUj4VsZbE49PTBQmtjYOvtPz4K7pI8pd1DzBQ0Bslocj8pxxtN75uSN4/i5K7z+1jYr4dPS6AgB0BfIcmLEvcr8ITAj84foPbRtDy3od2jV9YLWT+ud4uhCRlxNe+cbR9s6r9rqeLZSdKUSvKwCA1vCpBmZp582dQxOHfnz54yaZ0roj40s8Du2a1vuefbvP9HQhot49WRy89g2OxyEvpweV0YFu7NlDmZEuPl1S04heVwAA7eAzDczMqcpTM07OWHh+YUF9AeNLD9/ofWjXNIHItqPne7R0wvo648VvaL4C5j2fPZQ70E2p8b4Yva4AAFrDRxqYjRv1N15Oe/nhEw+fqDih+tXZeX77d0+1lXW2LK1nS57z74UXv6ExBsw1U+11PV8sSy7AenQAAFrARxqYAbFc/OnlT4MTg3cU7VD7gOjL/Xbun6TRsTwFzf/tjzxncP3U3XN/F/bcEWp6XSvq0esKAKApfKSBqdt2Y1tQQtC/c//d3gNezhz04+Fxmh7un/rcADe8+A1tYDv3/NEgbrCn0pfEMkKvKwCA5vCRBqbrr7K/JidNXpK+pLSxtL3HvH0+6Jsj4Voc9J/xcx49WB49sGqJ4Xg5sdzaXyZGtdc1s1R2JA+9rgAAGkGeA1OUczdn/rn5s07PSr2T2sHDPjo77N/JI7U4rj2fejq0/t8QT+wBbzgd322fnmzVSBefLim9i15XAIDOIc+Byfk2/9uRR0buubWn44etPRG68swI7Q7tqbTC8FAvvP4NZ6h3J3f74UHcEb2VMp+C0OsKAKARfJ6ByXljwBu/Rvxqy+lo2ZGvjo1emjpE60P/MxmiWUhvjg0qdAbB59EI787v9fwwHuMncrlMdvgKel0BADqBPAem6IneTxybfKyfYz+1X/0uMeL19MFdOa6HUn2OxaKRfRDoDGGkj0b32d2RpdrruitLUlQt18NFAQBYDuQ5MFEjXUYenXx0ottERvv/DkxccKl/Fw/qydzRdZQv8pwhaH6fp/TnjlZ5cHwGel0BADqCPAemy8vO66/Jfz3n91zz/3LlrD17Ip/K7dv1I6rkuTAfTk87zHLVL4E9K6S3Frk5OpTnYKP0Q8mrkO/PRq8rAEC7kOfA1P00+qf3Br/n1MQ7+Nv0qAKfbh1LJc8R0bi+KNHpl7Z3WGCvptd1b7YkvxK9rgAA6iHPgRlY7bU0+/CiyTc9u3sgD4Fq24QAbncPCx3qwh0e788Z549eVwAATSHPgcm7VUlL/uOef18Hh1JXn+vdU7veQNBKmA/Hy6krPdrRoTxn5a7wG3fkuy8i0gEAqIE8BybPx+38xsg1Ey7dtRV36zhuzsRVn9umDUSJTl+mDujivXW0ZUWHMntdD+ZIr5Sh1xUAgAl5DkxdSUPJCxcXrY/I6rf49zXjs+psu1qhUVecazbUiz3IHb8LujfYnT2kG4s2h/txJvdnxkH0ugIAqMJnGJg0BSliUmNu3r9JRPd50vXjLvV74/e14y822GpfpPFUM3iu1SODUKLTvYcHd/euRofyGLu+ltTKdyLSAQAoQ54Dk7bg7wUpVSltW+ptJG5vvmh/ZNPJWT3qbbT5XPdotz5HRGF9OINRotOpwe7sMM2WEe6ALZdUe13/vCrNui3r5pEBACwJPsDAdH106aPdJbsZje8Nfu/Vfq+SA3/Sig3piwZqcbj2+1ubPRbMzA3QHY8F66bkGerDma4ywDE+XSJBogMA+AfyHJioLflbvs77mtE4z2/e6qGrW/930iltjthZnhvqxVbdmQC6ZrQvZ6iXzm5mdBjPW3mSbPk9BQbSAQC0Qp4DU7S/dP+yrGWMxoluE7eN3vbg/49eoMuFbR+Q71LXxGt/XF2H/a3N5gxFiU43Zuv0TrJZFB1mw2hMypemlaBGBwBAhDwHJiitOi3m7xhGYz/HfnFj4pSadhxlPOaNR859940/vTSDbNSFiQ7nQzTz7snSbRCxTrOGcnv31PEuakO92FGBanpdGyQK3Z4IAMAcIc+BaRE2CmNSY5rkTW0b+Rx+XHicJ7/N/hBHLlBOkdIzJ4/oP3HG40HP0RuzKPHf9OIM4rX5+OfbkKCHJhcweyjXT4Dfi67zFbD1VOZ8NoTH+NFUNyji09HrCgCAPAcmZkHqghv1NxiNseGxYS5hSk0qxTmKnrZ15FZ/B38iop6OtHgWJX5OMY+0rCHc2eC5tp5TmVAJmpsXose7p7qv6+kbspQi9LoCgLVDngMT8tL5l05XnmY0bgzZ+ETvJ5Sa/kqjK8rFuSkjKGQA83DOjrRkNiV+Tgse1irPBXmwH9fR3Exr83gwN8hTj+8qg93ZTwxR0+t6V4ReVwCwashzYCpWZq/85eYvjMZ3B737Rv83mA+NVy3OTW/3uIIe9OYcWv2iVhfz1HAelqPTVqAH+6nhei9tPjmM199V6Udzrwm9rgBg7fCJBSbhu4LvNlzdwGic6zt33bB1zIf+eZ6u3FRqmRJCI/p3cgIXJ20v6cXRNnz0u2rMjsd6cRRzCqqeqPa6/n1TdvI6el0BwHohz4HxHbp96J3MdxiN41zHxYXHqXm0anFufvvFuW7wcmItCjdQQLEAi8J5nk46ntPann691BQC49PFVffR6woAVgp5DowssyZzwd8LGI19HfrGjolV8+jE85RbrNQSGUrD++np2kb7cgzQgWgBnh7OG2XYpZgfD+YGeii9fYmkhF5XALBayHNgTBWiigWpCxpkDW0buSxubHisj52PmieoKc5N09vVERE9Hsyd0h9zIzoSOYCrq629tDJfpdc1/Zbs2DWp4a8EAMDokOfAmGJSY/Lv5TMa48bEhfcKV/PohFS6qlycmxpKw/RVnGv14mhe9/eVt1Qj+3BiRhmnhNnHmT1PZWWZ+AyJsA69rgBgdZDnwGheTns5uSKZ0fjF8C/m+MxR/wRDjZxT9eYEmyAP/LIwBXuy35xgzCGGjwzmDvdWitoyOWFfVwCwQviIAuP45PInO4p2MBrfGvjWmwPfVP+EhL8pr0SpZVoYDQ3Qz9UxsVn0/ybaDnDD78sDg9zZ/2+irYFmQLQvOpTHVf6xXLotS8xFrysAWBd8PoER/Hj9x89zP2c0Ptnnyc+HMxsfUN0QwlDFuWZ8Hi2dbINI12yQO3vpJFtbExhY6OnEUl2+5JdMSXGN3CjXAwBgFPhwAkNLFCa+mcEswo3pNSY2XN2E1maH/6Zrt5Rapo+kIf56uLqO2PNYH0yxHepl7b81w7w570+xNZ3F+aYO4I7swxzgiF5XALAq1v7JBAZ2qfZSTGoMo9HH3ic2PJbLar/ao6Y4p99pre2x4dJ7U2zH+Fnv9IixfTnLJtvwTOwGRIfy7HhKfb+55fIDOeh1BQBrgTwHhnNHfCcmNaZOUte2kUWsuPA4Pwe/dp926BzlKxfnHhpJwYYuzrX1xjibRwabQF+jwc0I5L4eYYprLPdyYEWrzHX9/aLkehV6XQHAKiDPgeHE/B2TW5fLaIwdExvhGtHR01SLcx3s1moo80J5z480mR5Hg3hhJO+5ENP9lif244zti15XALBSyHNgIK9deO1Y+TFG4/ph6+f2mdvR0w6mUEGpUsvDoyi4r66vriumD+R+EGnr6mD0KZ565+7I+tdU22kDTb0kGR3Kc+Ir/TgKquR7LiHSAYDlQ54DQ1ibszaukLkZ6+IBi98ZxNy2lckki3Otgj3Zqx+xHW3Yra4MbIwf59NHbM1i+T0nvppe1z8uS69WoNcVACycGbxHg7n7ufDndVfWMRpn9Z61YcSGTp55IIWu31ZqeWQ0BbU/0s4YHG1ZS8bbvDCSx7G4Oh2XTQtG8d4YZ+NgYzbf29i+nIkBzHi9A/u6AoClQ54D/TpSduSNC28wGke6jIwd0/7qJK3UFOeMM621U9MGcj97lB9qQduChflwPpvJnzrA1PtYVUWH2fRS7gQvrpH/molIBwCWDHkO9OjK3Suqq5N42XnFhcfZsm07efIfZ+mGcnFuxmgKNK3iXFuePVj/b6LNK2OZYcLsuDqwXh1r8/ZEG48eZvmN2PFItdc1IVd6SSgzyvUAABgA8hzoy13J3QWpC2rENYz22PDYAEcN9uky7ZFz7Rnvz9nwGP+JIVxzjEJsFs0awt3wOH+cv3kXGkf24ahWFuPTJTKFUS4HAEDvkOdAX2JSYy7fvcxo/Gn0TxPdJnb+5P1nqFCo1BIVToN9dXd1esRh05PDeF/P4k83+QmhbT00iPv1E/w5w3hsc4yiKqLDeJ7K9UVhnSIeA+kAwEIhz4FeLElf8qfwT0bjmqFrnvN7TqPnx5tlca4tF3vW8yN5Gx/nP2zaKw+zWPTIYO5XT/Dnh/EE9hYR5YiIiMsm1X1dj12Tpt9CrysAWCCT/qQBM/XZlc+23djGaHy1/6vLBi/T6Pn7TlNhmVJL1Bga1EdHV2dQbo6s6FDerCHc5ALZyevS8nsm1OHn2YM1qR93Sn+OvflMX9XKcG/OI4O5f15V2vUrPl0S7Mnh450PACwLS6EwoQ8YsADbi7a/mvYqo/FR70d3j9ut6SGe+piKlPPczhU00CzzHENWqexckezvYpkRf+3YLAr340T05Qz3Nu9BchpantBUUqu0/tykftyF4aa70QUAQBcgz4EuJZUnzTw1k9EYIgg5NvmYPddeo0PsPU3rdyi1zBxLnzInyZo1kZQulMgybsmySmVSQ610y+PQCG9OqA9nZB+OrTVVp66Uy/99vInR+MY4mzF+VhFnAcBKWNP7OuhZ3r28BakLGI3utu6x4bGahjlSN3JuvomuOddlfC6N9+eM9+fIFZQtlF0pl+dVyG/c0UuyC+jFHuzODvJgD/HiWMZEB20FebAfC+YezFHtdWX3sLXKOwIAlgh5DnSjXlof83dMVVMVoz12TOzAHgM1PcreU3SzXKnl0bE0wEcXF2iK2Cwa7t3S79kkpRt35EXV8pJaeWmdoqxO0SjRunZux2N5ObG8nVh9BOy+AnZAL7ZVleLa8/RwXk6ZUmK+K1LEp0tei7Ax4lUBAOgQ3uxBN2JSY7JqsxiNP4z6YYr7FC2Oorrm3Hwzm9baZbZcCvRgB7bZJrVOpKhuUNQ2Kuqa6H6TolGqEEtJJic5EZuIwyZbLvF5LAcblpMtOduxejmwUHBqT3QYb80RpV7XlCJZsKdsgsrmYAAA5gh5DnTg7Yy3D98+zGj8eMjH8/vO1+Ioe05ScYVSy2MR1L93t6/OXDnxWU585DPdGODKfnIYb88lpfXn4jMkwZ5sFwtapQUArBbWn4Pu+uLqF99f/57RuChg0b8C/6XdgXYcY7ZY3Mg5MKInhnAHuyu94zWIscIwAFgI5Dnolp03d36c/TGjcYbXjE1hm7Q70O8nqUS5OPd4BPWz3uIc6IPqCsNpJbKkfKnaBwMAmBHkOei6kxUnF55fyGgc6jw0NjxW62NZ8cg5MBg/AfvZEGaki8+QmNQ6zwAAXYA8B11UUF8Qk8pcFs7FxiUuPM6J56TdsXafoFuVSi1PjKMA7+5dIIAaUYHcoV5K73sSGcVnoNcVAMwb8hx0hUgmikmNKROVMdrjwuMCnQK1Ppxqcc7cdmsFMxIdasNYii+rVPbXVfS6AoAZQ56DrliQuiC9Op3RuHXk1mme2s9g+C2ZSpVXrZs1ngK8unF1AB3x7slSHUgXnyG5VWuozToAAHQNeQ60tjRz6YHSA4zGFcErYvy7tCuX6rTWaExrBf2aPpAb6sNceQ69rgBgvpDnQDtf5X31bcG3jMYX/V9cHrS8K4fblUy3lYtzsyeQP4pzoHfRoTzG5hk5ZfJDV9DrCgBmCXkOtLCreNfyS8zcNt1z+rcjmQlPU2pGzqE4B4bg5siKDmX2uv6WJSnUz0a6AAB6hTwHmjpTeUZ1QmuQU1BceFwXj/hrEgnvKLXMmUB9Pbt4NAAtTe7PDfdj9rruQK8rAJgh5DnQSNH9ItUw15PXM25MnMBG0MWDYlorGFt0KM9RedPb/Er5vmz0ugKAmUGeg85J5JIFqQtKG0sZ7bHhsUN6DuniQX85TmXVSi1zJpKfRxePBtAlznZqel33ZUvyKtHrCgDmBHkOOheTGnP+znlG4+awzY94PdL1g8Zjt1YwCeP8OeP9Vea6Yl9XADAryHPQifez3t97ay+j8cOgDxcGMHf60sJOleLck5PIF8U5MI7oMJ7AXqnXtahavisLkQ4AzAbyHHTkP9f+syl/E6Px+b7Prwpe1a3jxqvu1oriHBiNg42aXtfDV6SXy9DrCgDmAXkO2rWnZM+/Lv6L0RjpEfn9qO+7ddz4Y1Reo9Ty1CTq496tYwJ0z2hfzpT+XEZjfLpEYZSrAQDQEvIcqPf3nb8XpC5gNA7qMSg2PLa7h1ZTnMO0VjC+6DCeu6NSr2vpXTkG0gGAWUCeAzVKGkoW/L1AppC1bXTgOsSOiXWzdevWoeOPUkWtUsvTk8mne8cE0AUbDqnu63okT5pZKlP7eAAA04E8B0xyhTwmNaa4oZjRHhceN8J5RLcOrVCo2a0VxTkwGSG9OQ8NUtPrKkaiAwDThjwHTDGpMSlVKYzG/4T+Z6b3zO4eOv4YVSoX5+ZOod6u3T0sgO5Eh/F691R6Y6yoV6DXFQBMHPIcKPnw0oe7S3YzGt8b/N4r/V7p7qHlCjUbQmBaK5gYFqnpdU0ukJ4vRo0OAEwX8hw8sCV/y//l/R+jcZ7fvNVDV+vg6PFHqequUsszU8gbxTkwOUM82Y8Gqel1vS/GbFcAMFHIc9Bi/639y7KWMRonuU/aNnqbDo4uk6srzmHkHJiouSN4/i5Kb481jeh1BQDThTwHRERp1WkxqTGMxn6O/XSwOkmz+KN0p06p5dlI8uqlm4MD6IFqr+uZQtnZQvS6AoApQp4Dut14OyY1pkne1LaRz+HHhcd58j11cAKZTM201mgU58CkDXRjzx6q0uuaIaltRK8rAJgc5DmgmNSYG/U3GI2x4bFhLmG6OcGOY1StXJx7bip5uejm4AB6M3sob6Cb0ptkfRN6XQHAFCHPWbsXU188XXma0bgxZOMTvZ/QzQmkMjUj56IxrRXMg+q+rqnFshMFUqNcDABAe5DnrNrK7JW/Fv/KaHx30Ltv9H9DZ+fYcZRq7im1zJtKnijOgXnw78WeO4IZ6eIzJJX16HUFABOCPGe9viv4bsPVDYzGZ3yfWTdsnc7OIZGqK85h5ByYk0eDuMGeSm+VTVKKz0CvKwCYEOQ5K3Xw9sF3Mt9hNI5zHaezCa3Ndhyl2nqlluhp5CHQ5SkA9E+11zXjluxoHnpdAcBUIM9Zo8yazJi/mauT9HXoGzcmTpenEUsoHtNawRL4OLNVly+Jz5DcvoteVwAwCchzVqdCVLEgdUGDrKFtI4/Niw2P7W3XW5dn2nFMpTg3ndyddXkKAEN5eBB3RG9O2xa5Ar2uAGAqkOesTkxqTP69fEZjbHhseK9wXZ6mSULxyiPnWCzs1gpmLTqUx1NKdJQtlCXkotcVAIwPec66vJz2cnJFMqPxi+FfzPGZo+Mz7ThKd+8rtURPIzcU58CMefRgqQ6k+zVTUlQtN8r1AAC0Qp6zIp9c/mRH0Q5G49sD335z4Js6PpNIzCzOsVnYrRUsQOQA7qg+HEYjel0BwOiQ56zFD9d/+Dz3c0bjk32e/Pfwf+v+ZDuOUp3S+DyKnk6uPXV/IgCDiw7j2duw2rbkVcj3X0avKwAYE/KcVUgUJr6V8RajcUyvMXHhOp3Q2qyxiTmtlcNGcQ4shou9ml7XvZck+VXodQUAo0Ges3yXai8tSF3AaOxj3yc2PJbDYvYc6UD8MbqnUqV5RHwAACAASURBVJzr5aT7EwEYyYQATkRflV5X7OsKAMaDPGfh7ojvxKTG3JMo7bjFIlZseKyfg5/uz9fQxNwQgsPBtFawPNFhvJ58pV7XG3fkuy8i0gGAcXCNfQGgXzF/x+TW5TIa48bERbhG6OV88UepvlGpZf40ckFxTgv3xYrbdxVl9xSV9fI7DYraRqoTKe6LFY0Sui9WWr3WwYZlxyNHW1YPW5bAjno5sN0cWZ49WL17sux4rPaODzrRw5YVHcb79qy4bePBHGmwJyfIA38nK6luUNyuU5Tfk1fVK+40KO6KFPea6L5YIZJQo0TpJe1ky7KzIUcbVk87lsCO1cuB5e7I8nJi9e7JZuMVDdAh5DlL9tqF146VM3doWD9s/dN9ntbL+e6LmMU5Lgcj5zRxrVKeXym/cUdeVCPXfKP3+2LFfTFV3W99vKz1Sx49WH0F7ABX9gBXdn9XxAu9GOPHySnjnryuNBMiPl2yLsrWWJdkIholirwKeUGV/Ea1/Ga14l6Tpi/puiZFXROVE/PxLCJfAdvfhd3PlT3Qje3lhHAHwMRSKLBfjWVam7N23ZV1jMbFAxZvGLFBX6f8/iB9f0ipJeYRWjJbX6czcxX1iou3ZZeF8pwymVjW+eO7zI7HCvZkD/Fij/DmuNjjg1CXRFL66LCoTaQmInpkMHeeyoQJa3DjjvzibfnlMll+pX6nhrg6sII9OcO82CN6c3h6GAMMYI6Q5yzTz4U/v3HhDUbjrN6zfon4RV+nrG+kqH9Rg+hBC49LCZ+TwFFfZzRP1Q2K1JuytBJZgTGmQw52Z4/swwn34zDGfkGXpd+S/eeUmNG4dLLNcG9rCRqF1fLzxbILJbLye4b+NGGzKKwPZ1Qfzhg/a7nbAO1BnrNAR8qOPHH6CUbjKJdRR6cctWXrrSfovwfpB+Xi3IszaPEsfZ3ODF0okZ25Icso1WctTmOj+nDGB3BCeuNTUAe2X5Acu6bU6+rZg7V+Jp9r0R3dTVI6fUN6plB2447xF2rhcWhyP+74AI6/i0XfdID2Ic9Zmpy7OdNPTK8R17Rt9LLzOjb5WIBjgL7OWt9IMz6gxqYHLTY8Svg3OaM4R01SOp4vTc6Xlms8MM5gvJxYkQO40wZwOfgQ7AaZgpYfFt2uU/r5Th3AXTDKMntdy+4pml/Seh0n0DWBHuxpA7ijfPGHClgd5DmLcldyd1rytMt3LzPaj0w+MsFtgh5P/N0B+vGwUstLM+gNay/O3Rcr/rwqPZInbTTtVSwcbVkPDeLOGMy1xfyorroklG1IZva6vjXBZqTK5mBm7Vat/M+r0lM3TC/HKfMVsB8exJ0QYFE3H6BjyHMWZdaZWX8J/2I0/jT6p+f8ntPjWe810IwPSNTmw8yWRwmfU08HPZ7UtMkVdCBHeviKpMl8doFysGHNDOI+GoRM10W/ZkoScpV+3r3sWetn2lrG2jGV9xWHcqTJBebzgibydWbPDOKOVVn5GcAiIc9ZjiXpS7bd2MZoXDN0zbLBy/R74q1/0LYEpZaFUfQ6cwCf9Th5XbovW1rdYJa/We6OrNlDeeP88RHYFSsTm27WKA0mmxjAWTTGxljXoyt7L0nMd4PaIA/27KG8Qe4YUgAWDnnOQnx25bPVOasZja/1f+3rkK/1e+K6+zTjX9TUpjjHt6GEz8nJXr/nNUnNOwTklBl/eHg3DffmPD2c6yvAR6B2rlbI1x9rYjS+HmFjviWi88Wy3Rclhp+4qnNTB3DnjuDZWeaARgAi5DnLsL1o+6tprzIaH/V+dPe43Xo/97d/0E/KxblFM+m1x/V+XtNj1jUMtZ4azns8GN2v2tlzSfKH8svAic9aH2XrZG4LxNSJFDszJClFpj5UTnMCO9azobyxWNkELBTynNk7Xn780VOPMhpDBCHHphyz5+i5SHb3PkV9QE1tRvvb2VLCv6mHdRXniqrl2y9IjLKenL4FerCfD+P5OKNQp4XVR5oYL4axfpzXx5lTr2vqTdn/0iV1Igv8dJjUj/v8SJ4NQh1YHLxNm7e8uryY1BhGo7ute1x4nN7DHBHtOKoU5ogoepq1hblj16Sr/mR+fluM3HL5isSmE9ctqu6ob9Eqm0Ocuyk7dd1sCl3x6ZItZ8UWGeaI6OR16cpE0dUKy/yFBWuGPGfG6qX1C1IXVDVVMdpjx8QO6DFA76evrad45d1a7W2tbbfWn85Ltl8w7cVIuk2uoJ9SLf/b1KF+ruynhjMjXXyG+M59U09I5fcU6441/ZVn4fFdWKdYf6zpiKV/m2BtkOfMWExqzMXai4zGH0b9MMV9iiFOv+MoiZXfEKOnk6OdIU5tAqruK9YdazphVss3dMexa9LPk5pqG009kZiIx4O5gR5K766NEorPMOlMfOm2bPWRpjyrKVztSMdfKWBRkOfM1dsZbx++fZjR+MmQT+b3nW+I09fco/hjSi0OfOspzuVXydcdtaJPvmY5ZfK1R5tMYXMns6Da63qhRHY830T/ADhRIN1wQnyvybry+rFr0q9Ois1okUiADiDPmaUvcr/4/vr3jMZF/RZ9EPiBga4g/hhJVIpzDnwDnd2oMktlnx1rumOey8t1U0W94rPjTZdum81QMCPyFbCfC2FGuh3pEmGdyb1yDuRIfzpvpZWqrFLZZ8ebTL8rHKBTyHPmJ/5m/MeXP2Y0zvCasSl0k4GuoPoe7VAeOedoR/OnGejsRnXupuzrk2KpFZeomqS04YT4fDEiXedmBHKHeStNpJTJaaeJ9br+liX5/aJpXZKB3bgj/yK56bbp5WwArSDPmZmTFScXnV/EaBzmPCwuPM5wFxF/lKTKH+fR08je8otzZwtlW88y9+i0TpvPiM9Z0Mpk+hMdyuMov8tevC1LvGoqPXy/ZEoOXTGVizEiYZ1iQ3JT6V0r/kMNzB/ynDkpqC9YkLqA0ehi4xIbHtuD18NAF3GnTl1xzvJHzv19U/bfcwhzD2xNEafeRKTrhJcTS3Ug3S8ZkuJa40eHXVmSxFyEuRZV9xUbT4jLUKUDs4U8ZzYaZY0xqTHlonJGe9yYuECnQMNdR/xRkil/FM2fTna2hrsAY8gslX2LypyKLWfFWRhL15lpA7lhPszla+PTjdzFuT9behiVOWVV9xX/OS3GJG4wU8hzZiMmNSa9Op3R+N3I76Z5GHDgWtVd2qE8rbWHvcUX5/Kr5JtOI8ypt+m0+LqFrqWsQ9FhPL5ykS63XH4gx2hx6ug16d5sqx4z157Su/JNZ8QyvKLBDOkpz9UmvD/Ou4ednf/UFcm1+jmFdXk3890DpQcYjSuCVyzwZ3a/6lf8MZKrFOf45rSRkbbu3Fd8e9aqJ0B0TCKjb8+Kq61ytq/mXB1Y0aHMX5PfL0quG2Pxlwslsv9h3bX25VfKUYwHc6SfPFefsG1rirBeJCpK+vbnFL2cwlwUbHvSn9WG3ZO/iLQ9xld5X20t2MpofNH/xeVBy3V0lZqpvMscOefkQNEWPq31v+fMYFl/46q8r8DIwk5N6scZo7ITvOF7XYtr5N+l4IfVibQS2a+ZiLxgZvST57jOgn8mO/IdzWPaY+HBjevWrFv32ZakW7o7aNneRY8v2VvUrWPsKt61/BIztz3k+dC3I7/t1nG7IP4oKZSTzfxpll2c+/m8BPs8aiK3XB6bhs+/TkSH8XrYstq2FFTJ91wy3H2TyumHvyVijHjUQEKu9KT5bLkLQERcvRyVH7V8+1r+L7m1ziEvfRSpl1PoWmHixhVbhcQNXDp5caSPLo5Ym7Ts8ehtuSIiEkyJHlsSn1Cg9THOVJ6JSY1hNAb1DIoNj9XFJWqjspZZnOvpQNGWPHIuKV+abDXbeXVfUr7UV8CK7K+ftxSL0JPPig7jMcpjf1yWBntyBrsbYijzT+fFN2vw94mmfkoV+wls+7pglDmYB329Uv1nLN+8fceOb5ZGeurpDLqm2w/u+sx1c5/amCYiIsHY5b//tjxCoHWdsvB+oWqY68nrGRceJ7AR6OY6NccIc0Q0fzrZMhdisBg3a1Bw0lrseUkx4kKHIvpyJgQYp9f1eL70zA0UnLSgIIrDmwCYD/zlQUREtSlJl2t0djRp7rYXZq44WkNE/JDFO/aujXTV+hgSuSQmNaa0sZTRHhceN6TnEJ1cphYqapi7tTo7WnZxDgPGu+Z/xl6Gw/RFh/F62Sv1ut6skXc6Wksmp+5sHl96V4GXdBdcv9P5jwbAROgpzwm3PGTXMvz/f23mtyYvCeCxWCwWK2hFipRq07YteTw0wM3OroeL97Cpiz5LKFSZKpC7JrR5HoHLKwlEotx96+ZHBnn3sLMTeAdEzFzypZqn7H2h5dTjPstlfKlw09SWr83dKWp7SYJx686JiIikuRsjWiYuzN+t9cSFf86yZMk+IRHxA6PjD2yO6lKFckHqgvN3zjMaN4dtftjr4a5dVbcw1ighovnTycZie9b2ZUuvVaLO1BV5FfL9l9FJ3RF7HmteGLOwnZArzRa2+5K7dFv2UYIo41bXq2vxGWI5ZvV0SUKu9HL7PxoA02Gs+pxIdHpFZOSiLQczC6tEovoaYXbSto9mjpuzpd3lyqWilM9mjpu7Ij45V1gvEtUKC88lbHl/ZtjEZUlVBr30Tvm/+WP8y4GCvnM2790xp0tD8d7Pen/frX2Mxg+DPlwYsFAH16et8hraqZznBD0seFprUbV8H5bm6oa9lyQYpNWxUX04Uwcw/xyKT1cfuX7JlGw4IRbWKaobFLfvdiWUHclDIukWlOjALBipxHIvc93bKbmOgRETAv0dRVfOJWXeEhGRMHHZkh+ijr/ur+YpV7cs2Z1EfSOiQvwFVHMlLSmzSERENWkbn3opMP3AQnXP0YB/1OJVzjXSouRv4lNqibiCiOffmNKHiOyCBnd1Zi7Xf873KWPL+F5dqsz959p/NuVvYjS+0PeFVcGrung93aQ6ci56GvEstjj3m3XvTa4Tv2VJ35tiyROfu29eKC+nTFZ270E+u12niE+XPD/yQekut1wen6E0JPFqhcy7p3a/etUNit+y8JLuluJa+f5s6ayhFvumB5bBSC/QWynCGduufDPPvzky1Weue3zqiuQaIlHKL3sLX1+qGs5q0gqnfJWR9GaIc/P/S4UJHz01/8uUGqKaxHVbTkdvmNCl+NU3aunKKJImLdken1JLRJ5jX167dmyXv7FWzl0Lcw3ShjOVZxiNve16P+T5UGVTpZutW/evTDtl1fTLcaUWlx4WvCHE6RsyVDK6L1soO1MoG+/PHPgPrXgcig7jbTyhNNf16DVpsCc71IdDRL9flKhuIHG1Qh45QLsT7b0kxQIl3bc3WzKmL8ezB6vzhwIYiZH6W12fXPvVP2GOiBxDln44z59LRCTKzsxUN26NP3355tYwR0Rcr6gvdqyZwicikhbu3Zeh70s2DHuu/e5xu1/t/2rbxtLG0vl/z/c94Dvu2LgPL32YKEy8L71voAtSU5ybTlzL/JxWEKGnVVdwJzs13JvzyGCVXtcMSW65/NMjTWp3A8vTcjXEqxXyUzcwnFE39uMlDabNSHnOra+ncjWNPzSwOc+RqKamXs0z7Hy8vJht/lGPhTYfRpiVWaj7qzSOq3VXC+6pX6ouoybj//L+b86ZOa77XKefmL4mZ83JipMK0ts4Z+Ed+jVJqaWXkwUX5w7mSKuwFYSOVNYrDmG7987MC+X1cVZ6E66sV3x2vKm9LXFrGhW3arWIdAeNt0Ws5UkpkmmbpwEMyWTWK+G3WZ9N47cggWtLp6aorFBoEW9cf5T+EfJXyPHy450+8kzlmfVX1j9y8hHBXsETp5/YeHVjWnWajq9GdVpr9HTimMxrRqcaJIpDV/D3ty4duiJtsojfSr2KDtVuEUfNNyzJLJVlC9HVqkuH252vB2B8lvLZ3Cjq4uIiJuaJ3k/M9pmt1VOaZE1Hyo6syF4x8fhE7z+8nzv33NaCrTl3c7p7Kbfv0C7l4pxrT5pvsdNa/8yVihDndKpBrEi8is+/TgR5sh8L1mIcs+Z5LhHhQ9eySmVXylGiAxNlKRN27PjmsU2sBlYFr1JdrERDNeKa/bf277+1n4h87H0muk2c6DZxovtEfwftp//Gq5vWyraUPwCUiWX0Vx4qGbp3JE/6WBDXQku6uiGsUxRVa9HLr2GX3yWhDFsP68ORPGmQB+Zugyky7zfamqqy5n/wPf29/ommfLIjIiKRmdbsBjsN/lfgvxiNo1xGLQ9aPsFtgubHudVwa+fNna9deC0oIWj4n8PfTH9zd8nuclG5Rk8uraJdyUotbj0teOTcsWvSRglGzulefZPieD6qRO06dk360WGRVr2id0UKTTZVO34Nf5/oRcYtWVE1gjKYIrPJc423hEJmW2HCwYzmyOY1IqS1AOXs2jILNjc7t1b5CcJC1e0kTNGqIav8HZUqamnVaQGOAUcmH7kz586+8fveGfROmCBM8wNeu3ftxxs/vvD3C30P9h17dOwHFz84fPvwPem9dp+gpjg3nVgWO1c/CZlDb3Bv1aq6r/jPKfH2CxKZ9n9HdFp4K66RZ5Yiz+nLiQLcWzBFZpPnREfXLdma+SCfSYUJ789fmSwiIuL6z5kd2vqVoKGBzX2vosQNKxIfhEDh0WXv/Wwes2BZxFJdPXhNzhqZQmbPsX/E65H1w9afmXam5PGS+LHxr/Z7NdApUPODZ9VmfXPtm6fOPuW+z31q8tRPL3+aXJEsV7T5hLhVSb+dUHqOm7MFF+fSimUV9SjO6cvtOgWyBcPJ67KPDovSu7p/V6ddrqdu4Ibr0ckbKOeDKTKb8XOCsf5l74cGfBExNsRfQMIraSnNW0oQkWDG8sVtFhN2fiz6SdeE+CoiUeaWx4OTJowNdKXagsyUbAqdEEjJzE1dm4/hJSAqIqKycz+sWPEnEdc/6s2FEc7qHqsB4cEV7+0uevD/0porLZVBUebWRfMTH1zslI82Lxys5gjP+j67q3jXn8I/W1uK7hetyVnzyZBPWltcbV3n+MyZ4zOHiIobik9VnDpVeepkxcnihmINrzOlKiWlKuXfuf+2Yds0j7Sb6DYxPP4G83GWG+aI6EwhPvz060yhLKS3Za5ZqK27IkV8uuTvm916yXVcn5Mr6EQBaqJ6JJPTmULZ9IFm8+kJVsJ8XpH9F385mx59PymhKKVts2DU0t9/Ut7sy3Xemq8SUl6KL5QSSWtykxOaE5zX7B/XTNg5MzlXTZcrNyRqdsjazEyRtCbl53UpRMSPEDzX9Twnupq8538pavt2C0/HF55uPa+/84tE6vIcEa0KXtU2zxHR57mfP+P7jNpqnK+97/y+8+f3nU9EV+uunqpsyXZVTRrtbiuWi4+VHztWfoyInL1tJs7xnHjTY2Kx59BKAbkLLHi31jv3UT3Su7Ri2V2RoiffYvvrNZRSJItPl9xr6m5p516Toqha3tdFfe/KuSIZNoTQt5Qi5DkwOWbT30pcfsQ7h9N/Wxs9JdDLkfjOXv6johZ/cTj91IZIV+Zj/Z/fcfbI5sWPhfi78vl8vldgZPT6w2d3LvRv/xcw5MM98e9FhfiY0DTZEEHI2wPfZjSuvry60ycOdhr8Sr9XdozZUfJ4ydlpZz8b9tkMrxn2HHsNz1vLFx8YULxsWtrolw72W/z7iwsu/lz48/X661p/A92zMnulAc6SWoyPPkM4372KlGWI6MuZM0w3IaCDLle8pA3gepW8RJuFnQEMgKVQmPQ4gNw1oUGrMolI8PLh6u+jjH05htYgbQhODC4TlbVt/GXsL7N8ZnXhaGcqz7TW7brw9P6O/Zs7ZCe6T/Tiq+zWoVMimUiwVzDKZdSGkA2jXUbr70SfHml3LX7QocHu7I+m2Rr7KkzCzRr59jRJfvdedWE+nLcnqlk1416TYvEes5j0ZfZmDeXOGardWtAAemU+9TmrZM+1XzWEOTFidU7nJTq1xruN/yjooz8n/Vkzp+aPCX8sHbx0pMtIzZ9eUF/w042fYlJjAg4GhB8Nfy/rvYO3D9ZJ6rp2MR07WXmSiNKq0yYdn/Tl1S/1cQoiqqhXIMwZxtUKeXWDSf/paDB+AvbKh2xnBHarUNfeELqMW3g9GwhuNZgajADohCh545KfMzX6g5cb8sa3SyN03WH7ov+Lu4p3ta2o5dblfp77+QeBH3T5mHwO/yHPhx7yfIiIqsXVLRMpSpOuNOZpeIRLtZcu1V7anL+ZiMb0GtNct5vkNonL1s0r6lTFqdZ/r8pedbLi5MYRGwc5DdLJwVtdxMg5A7p4WzalP95wWjwXwhvgyo5Lk9wVdSXm3hcrbtyRB/Ri/kF+8TZe0gZSXCMvq1N4Oln7qFAwHehv7UTtzzO9XkrQKM85zokX7pnnqPtrSKlKmZo8tW0Lm8XOmZHT16GvLk+zPv7W0cRTvuWnfMtO+pYVOddrewAui9vaITu219juXMuE4xMuVF9gHHxjyMZX+r3SncMyfHVSnIVIZygj+3DemoCF9ZXUNiq2X5BcKOnKi/C5EJ5qke/l3xqxZ67BPD+Sh1kRYDrQ32oGIlwjGDlGrpB3uddVvZvltPeUzz2HeTkB3yVG5P53zsX9MZvCNj3d52l3vruGx5AqpEnlSZ9c/iQyKdJjv8fTZ5/elL/pYu1Fba+lWlzNCHPNB3874+3oc9HCRpWFpbsqpwxhznCulKF/isnZjvXWBJtnQ7oyDEu1yzW3XI4wZ0h4SYNJwd8WnXB+8XDji8a+CKKVwSt3Fe+6K7nb2vLLzV+e8X3mYc+HdXOCHcwNIQY+/vTAgMhFAYuIKKs2q3Vxu3qpRnW7OkndoduHDt0+RESefM/WDtn+Pfp3+twOpmvsvbX3RMWJjSEbn/V9VpPL6EBehVyCOGdADRLF9Sp5P1f8DckUFcgd4MqOuyDRZCOvVqp5TsOtXUFXsEMumBRT72+FVt/mf7s0a2nbllBB6NlpZ3Vw6KIyeupjpRbvXnRgvdrHplSlNAe7U5WnlHaV0EyAY0Bzh+wkt0nedt5qH/NO5jvfFXzX8XFi/GM2jNjgwHXQ9gJaHboi/S1L0uWnQxfMC+U9Mhh/Q6qnINqeJtFqu9uPH7Jtm4+/TG7KFiJhGNSaGbZ+AvyJAiaB88knn3T+KDABo3qNOlp2tLSxtLVFKBI68ZzCe4V399Cb99FV5S0lXnuChvirfWwf+z7j3cbP7zv/vcHvjXMb52PnI1VI215Vx2rENVm1WX+U/vHNtW/+KP0j716eSCby5HvyOQ8mkiy/tLyyqbLj42TVZu0u2e3v6D+gxwANT83w51Xp7Tr8MWNQ9jas0b5WtFFEZqnMy0nTD3sW0YjeHHdHdk65TKpZKvPswR7o9uD4/0uXouRsYH1d2P7tLOxsgrR6QYLZQX3OnBwrP/bYqcfatjhwHXJm5HjwPbp+0EIhPa2c6Xu70h/rtDpGraS2tUP28t3LXbiK0b1GT3SbONFtYj/HfsGJwZo/8a2Bb30+/PMunPHdP0RV9/HiNyiPHqwvHzOhJbv1LbNU9t9zkjF+nHBfTqCHpp+jFfWKuDRJtrDzaDbcm7N0cssUE2Gd4oNDWHnO0Kb057442mxWoUsukO7Llob7ccb4cjDywfIgz5mZV9Je+V/R/9q2vBTw0pawLV0/4prt9Idyp+37z9HcyV0+3u3G260dsjfqVbaC7QyLpfVrcrjz8A0jNox3G6/5U+qbFG9g2VVj+O/TdnZm8/HXXZmlsq9Pipv/7enEGuPLDffj9O6p0QoX+7Ole7M7GQ/A59L3c+2a/32+WLb5jLg7Vwtd0N+Vveohs1koO7lA+vP5lheVr4Ad7ssZ48dxc7TgJVeESVt/OldFxA+c994c9V1O+ld4cOPOLBFxncc+vzjSR48nQp4zMyUNJUMSh4jlSm/cf03+a6LbxK4c7oaQ5ioX53zcaP/ablygkoL6glMVp05WnjxVcYqxy4XOrQhesTxouYYPvlYpX3u0Sa/XA2oxhnxZtrZ5rtVAN/YYP064H6eHbSefo5fL5NvTxGX3OnqLXjnddoAbmzTLf6BzdjzWf582m5JzUoE09jzzRTLEkx3uxx3jx7G1vKGt0swVoaHrsolcFx4W/hhlpG8w6Q3vqVuFxA1ceurKhm4t5NUJa3ljtRh97PusDGZubNr1tUtUprVS9LQuHkqd/o79Xwp4KS48rvCxwtTpqV+O+PJR70edeE46PEWrtTlrHzrx0KXaS5o8uOPPSNAf3PlrlfLtFySL94i+OS0+3+Feq0M82Wtm8Mf7dzTisHWKZdk9zIQwgkaJosbMNz65XCbflip+bXfjdyniTKzHqQ+GWkUIec78LBu8bEjPIW1bzlae/eH6D1of6PptOqDc09rHjZ7uek9rx4Y5D1syYMnucbvLZ5UnRyZ/OuTTSI9ILkuXfzGdrjwdfjR8U/6mTh9ZWY8PP+OoqDfvDz8dulAi23xG/Prvotg0SXsrX9hy6ZWxNi+O5rHbqeW1PhE31lgqzGcYbgcFYZmCUopkX58Uv71PtDNDcv2OJbxDigpSMkuMfRG1KUmXawxzKuQ5s6S6qeuanDVab6Wqpjg3vRsXpYUxvca8H/j+4YmHa56sOTzx8AeBH4zpNUZXB38/6/2nzj518/7NDh5zx3zegi3MHTMvZujcfbEiKV+6/ljTB4dEe7Olt++quT9T+nPXzLAd5Kbm7TqvoqWggu1xjaXast5MahoVf16VfvpX08rEpkNXpJV6/u6E53aue2XmuCBvlx52dm7eAaNnLvp4W9ItlcdJU5YNYLFYLBYvYNlpxtdEO+fasVgsFstu6qbC5qbcNaEsFssucElCLRERVW2byWt5yJZ/Dt78GBaL5fJKApEod9+6+ZFB3j3s7ATeAREzl3yZUKgyxHrvCy0nGvdZLuNLhZumtnxt7s6W5yUvCeCxWIJx686JiIikuRsjmk9oncXQBgAAIABJREFUN3+3XkZvI8+Zpce8H3uyz5NtWyqbKtfkrNHiEAWldDBFqaWPOz01SRdXpwUuixvpEfnJkE+SI5PLZ5VHuEbo5LCHbx8eeWTk9qLt7T2gttGi3oLNCO58e4R1iv3Zkn8dFq071nTsmrS+SelG9XFmL59uOzOIWc8Wy1qWEa7BjTUSS73zN2vkv2VJlv4h+jJZfOqGTA9bjwgT3h0XPDF6xQ8JKbnCmnqRqEpYmJawbfWiqUNDl+wu1Pn52iUVpXw2c9zcFfHJucJ6kahWWHguYcv7M8MmLkuqMtxVdJ/lDYC0FquCV+0p2dO2ZXP+5rm+c0e5jNLo+fEqxbn5BirOtceJ51RQX6Cro9VL619Ne/VkxckNIzYIbASMr9ZhLoSR1HVp+3mrklchz6uQb78gGdWHE+7Habti3zMjeANc2XFpkrYZ4mqF3LsnCxPbjMXiX9LZQlm2UPbzeWpeeWdEb50sISnKXPPUk1+niIiI+P5Tnowa4ckXlWWeSEjKraHazC0vzOS7pmyY4ty1o3uNX7h2lbCx8txPPyQJpUSOIdFvRfXlEnH9Q1QPeXXLkt1J1DciKsRfQDVX0pIyi0REVJO28amXAtMPLOzixFj/qMWrnGukRcnfxKfUEnEFEc+/MaUPEdkFDdbLHBrkOXM1sMfAj4I+Wn9FaReHNTlrDkw40PmT82/RwXNKLb4e9GSXZsjqTmZNZoWoQrfH3HlzZ3Okm+Uzq237/SYLfws2WffFuPOaSiuRpZXIHG1Y4X6ccD/OYHc2EYX6cPq7srdfkLTOpcirkIX7WdEqzabmvnWsEiOT09lC2dlCmcCO1TxBO6BXN/r3rm5Z8kWKiIj4gQu3H/7x6X8ik1SY8O7MJzdlikS5W5ZuiD6/NqRLIcV5yuLlU4iy1yX8kCQkIn7ovE/Xtje/tSatcMpXGUlv/pP0pMKEj56a/2VKDVFN4rotp6M3TOhS/OobtXRlFEmTlmyPT6klIs+xL69dq8/5rchzZqx5U9fr9ddbW46WHY2/GR/tF93JM+OPMVvm63Jaa9ecqjylj8OWNpY+d+651/q/tmHEBg6r5WOvEduWG0mjhG5qs0upWdPJHIV6seJ4vvR4vtTbqTnYcb2dWEvG2/x5VbozQ0JEVyvkDRKkZKNplCiIqF6sMP1RuToZvVrTqEi8Kk28KvUTtKy84+qg9Qp2KT9tS6knIvJ6fsPmp9vUv7heUV9sWJw4dWMBibJ3bktesXm63peD4U9fvvnNNmU7rlfUFzvWXAhakiwiaeHefRkbJuhmIJC+Ic+Zt1XBqxakLmjbsvry6mf6PMNlt/+TvXaLDikX5/w8aI6Ri3OktzzX7LuC75oLdZEekUTUgCqRkdxvUqxMRG93V9yuU+zLlu7Llg52Z4f7ccYHcAa4sePSJEXV8oIqa4nIJkgsIyLKKpV/f846KnX/uFkjv1kj35UlGerFaQ52NpqWiXOTzzQPj+OPnRDJzGv8iMixgo0FNSQtTDqRS9NDdHrVatj5eHkx2/yjHgvlJ6eIiIRZmYUUYay1iLWC+RDmba7v3CjvqLYtxQ3FnSxHZ3oj55qdqtBjniOi3Lrcmadmfnz5Y72eBUDfrlbI49Ikb/wuSsyVPhbMnT6QW1SNv0+MRiKz9pufLZT98Lf4td2N/z0nvnhbgxXspIWF+c0TPO0EzqrlNz7fuaVYVpivOsfUQASuns3/EJUVCs2kPwf1ObO3KnhVwu2Eti1fXv3yGd9ngnuq2wX1Wgkd/luppa8nzZ6gzwvUyNmqs/XSev0dv5dNLw++hwenV3HJ5X/lzpc1zufYGXoyL4BunS+WnS+WOdqyrGcLNTBZ0n8G2LnYs5q3iPVvb4CdVCRqjWlqM0hro6hGRGTk/TcaReayNSTynNkb7jz8nUHvfJ33ddvG1Tmrd0XsUvNo1TXnLKI4Z8ex8+B7ePA9PPmezf/w4Ht4Ntp7VHI8hDKPwiabG5VUWEZ364nLoR+WvZCtUl8HMDfNE2DzKuWNEqqsN5MaAlgoDlvjCbBcPp9P1Pz3u9qXbWsjX2D8zdTs+Ma/Bs0gz1mCVcGrdhXvut14u7XlQOmBvbf2zvGZo/S4vGJKSFVq8feiWVpsY68/nQ6ec+e7K2U15X/35PWk4nIqLKNrQioqo0IhFV6iBnV/Vq1fREMDKLtRL98GgP4Ncm/ZSb28XrE9TVJYLZ8/knfmhrEvy1rxOBa8n71Ghnpxwv044b4a7wDL9fcfwKcqEVFjTW0tEWMFEVFtbfMqwOQ/wF8lS4kMUy6rqWrZcJzv6e/1z/fFJzsiEZHINGt2yHOWgM/hrwpe9dqF19o2rs5ZzcxzO1SntZpEcU4sF6dXp/d37K82qzX/g81qU7qXyalISHllVCikomtUKKTCMpJoUJ9Y9gxFhhKRPY+FKYFG4WDLen+KjbGvwkDyKuTxGcztz7vMy6m5G4vr3ZNFRH9dlTYfnMum/t1ZOQK6p3kSwAhv9upHbI19LZ1IK5EdzNFZHddPwG5eScdN6/mtgVPG+9O5XCLRudMpouejlEKbKCXlXA0REdc/cnJgSyNXIBDwiUQkrcm8XEjT285PKCxU3U9CG423hEIi5S6bwoSDGc2RzWtESOvJnF2diWqIKDc7t5aUVrITFhptqF8r5DkLscB/wa7iXckVya0teXV5n1357MOgD1v+/2oxJSoX5wK86IlxBrzGdonl4orZ7a88JxJT3q2W0Fb4T/mtCxY8TM9GNv/TjkcNOvucBS3Ycamvi7WED53sHOBgwwr344z5Z/05IrrXpIhLe7D+3GB3tr2NtZeIjMiOxyIiR1uWo62p/xRuVOtgHrTArmVBxH7d+Csi4qWFEVuXpdST8H/LlkwPVFp/7v1lWwqIiPhD5y2c0pr0/EOGCChNSCRK+Xblztk75vVtbq9N+XLZlrRuRSnR0XVLtoZue73t+nPzVyaLiIi4/nNmh7Y+MmhoIJ8KRUSixA0rEqdsntESAoVHl733swE3tGgH8pzlWDlkZXJSctuW1Tmrn/F9JsAxgMh0R84RkSPX8cH/3GugwjIqapPeblXq4BxR4fTmg2qlgy0LG4kahYPJf+aZjpF9OGOU94cgooxbsu0XJG13ax3kznGwloqnKbKSm89hUXOMC9HJ/hCDF29+f2/EqhSRKHfb3KCkCVGRI/2dW/eHICJ+yOKNK9osJsyPfG6O//+2FEqJCuKjh6ZsmRLiSbWF2SmZtaGRIXyh2kgncBZwiaREooydH69I4ZKda+RLb0YyRk8LxvqXvR8a8EXE2BB/AQmvpKVk3mo5mmDG8sVtFhN2fiz6SdeE+CoiUeaWx4OTJowNdKXagsyUbAqdEEjJzE1dm4/hJSAqIqKycz+sWPEnEdc/6s2FEV3c+aIjyHOWY2yvsa/1f+27gu/aNq7OWR0bHku5N+nP80qP7udNj5tEca7Fhl0t6a28RvcHHzWIVr/UtsHJ1DtGLJYT8lxnBrq1LNPaQ+Ve/ZYlOXSF2V822J3dw5bFYhG2/DIKJ76Fv6SHeLLD/bhj/DQeHqcRfsjK3/fce2r+1yk1UlHh6b3bTrf5onPI4p/2bJii1A3Ln75288tJT27NFRFRfWHKwUIiIq4gcv2X89KmJqWpO4lP1JwJgqSjNVSfGb8+k4gokKa8HunF+Eb6L/5yNj36flJCkdKe5oJRS3//SXmzL9d5a75KSHkpvlBKJK3JTU5oTnBes39cM2HnzORcNaGSGxI1O2RtZqZIWpPy87oUIuJHCJ7TS56zlo4PK7EyeCVjr9JdxbsShYlqinPRplKcazE2mFJz9RLm/Dxo3SJGm7Odhb8FmyxnO2NfganydGLNGsL9bCZ/xXTbaQO5jDB3q1a+7liTapiz4dAgdzYRCfCSNhJLfTPxFbCfHs7b+Dj//UjbSf10G+aaeUV9cTbnVPzal6MiAr0Ejny+s5f/qKiFH/14PDtj82zVFXydo75NSfl+6Zyx/gJHPt9R4D9hzvLtZw+/F9r+m4r/4u2/r30uwl/NKndtcPkR7xxO/21t9JRAL0dqvozFXxxOP7Uh0lXliM/vOHtk8+LHQvxd+Xw+3yswMnr94bM7F/q3f39CPtwT/15UiI/ep8myFPibzrJsLdj6bua7bVtG8IPOfTpS6UH9e9Ovqwx6WZr44L90PEPHx7Tn0w9LaZAvo3nPJckfl7G+gxHMGsqdM9RaVkvLLJV9fbKTPQPsbVjNqzwEerT713VygXR7mvpla4d6cd6bYkNEq480YZcIo1g+zXaQu3lURpIKpLHnOxk47GzXsnpcP1fz+Ka6LHdNaNCqTCISvHy4+vuoTh9v+tDfamle7//6ruJdqXceTH3IEl35v9H2/+980IMHmVpxrtnCmbrPc+sWqoY5InJzsPC3KpPl7og732Jkn5ZVHjp4TJOUtl8Qn77R7pr7rZMk3B1ZBVU6vkLQhJuj2dTnOrhQNouap93oZngcGAPynAVaFbxq5qmZbVvWjM965oq/V70dEdGA3vTYWONcWccG+tCzkfRrks4O+FE0TRim9iueTmbzFmxhPHtY+50f6MZu/uBUHR7HkFMmj0sTl93rqAulNc959mATabDVEuiULZdc7M37JR3syR7jxw334/ARB8wcfoAWKNIj8oW+L2wv2t7a0sCTrp6QtTVxLJGpFueaLZpJB85Sgy72a3/5UZozsb0veiPPGYnV3nnPHi3LjvTuqVGFcv9l6d5LnXSN2XJpgFvL0ZoXpQMD0/CnaSLa/mXQx7ll2o27+dQXoWPIc5Zp1ZBVu4p3NckfBKPYYfnPXPGfbDuSHjXJ4lwzZ0daOJM27e3ucZ4YT68+1sHXHW1Zrg6sqvsYPGpQ7o4sa1spzZ7XEuM6GB7HUFGv2J4muSTsvNg22P1B11gfZ3MKFhbD7G57TzvWGF9OuB+nv6UPj7NC+Ilapt52vVcNYc54WDM+y6SLc80WPEx+Ht06QsQQWvl8p4+ynlVtTYef9d3z757mvziap3mYSymSrUxs0iTMUZvOViLycrK6rGwK+rqY0z135rM2zeZHh/EQ5iwSfqgW613xrGEVLm1bUnwqvh98yVjXo4WFMzt/THsG+KiuTqJWALZIMrjuLChvjrQdWh6XJvkuRdyo8U50jGmV1nZ7TYF5vY2E+mCuw/9v7z4DojqzPoCfO42h96YgXaoFsGIXKxoTS2IiJtkoMcXUxWQTFTYBNftmNV2zMZqykVRjEhMxauyKFVCpKgoiAipKEWnT3g+6OuUCM8P0+f++JJy5c+/jZbgcztPui0zLk8lkMpnMMia3EvI5S5b1V/rBAUqxjMKMRlGjUZqjgeZW4ms1EsDFgVamkKNaS5yF4S9Ug8M978z5Omna9vbd5zVYQ8eWzyhVWXB7DUzIpyDrKzmDycJn0UKduUh/5U4r83+4JFA+fKPjRkZhhrEa1b19p2j+Snr3OxJptTjcyhQK9u3+MCIiCvfi8PHHqgHJD94HedtLxJk72y/Va7Z6XITKmmfmsgqaxZAfvwhgdPj5t1BZdzeESD84UOmVdWXrjt84rvIGYyuqoFfX0pJPqbRSyzO89TcaGqnRO6K98Tg2nCjcbRWNbbKPDnZ8l9/NPFZWqvlcpDdHD4v4Q6ei1B4WCWAA+DhaotMX7i3MG1rvtPyQSq9rkSmV6K7V06osevIdOtiDsX3PP6TFvN0YX3z+Dacf7raik5cladvbT17WctE41mpcP18kzYaDjzSYFHwcLVGWwm6tyw4PCOP4y0d2X939TcU3hm0TG5mMNmyjGctoy4EenefhsbRgqhbvG9ALv/wMB3db3vf5oo8OdjS0arlijr2AYR2Jj5tsML2dOea1+BxYPHwcLc7pMtqTrxCJDEgfskrpqIyijA5pNztL6tdvh2nGMvrPVhJ3Up+YNoyy0sjFoZvzjB1I/3hMuyZ4OzIWv0ehiQjz5JjRtkh6VVkvzdzVnl3So+2DVTtb74jzw+fZQHCrwdTgE2lxNv2lHJk/cY7/nOm9psvHqlqqjNbrmlNIC96lzP9SzQ32A4ZE0Gep9PZTFO5HKV2uXRIVqObqJJ0Z7I96hiHgPt+x+7x4+fb289c1m/qgqrOpD442zEDsv2kQ+EiDqUE+Z1lOldFexeJcVCBNHkxE6dHKywuvKV1T0FBgsKYREZ2vojfW00sf05kL7AcE+dCKhbTuVYrvezfy6HgK82M/2NOFVqWQDb8nLep6N3TQlSG4z0SHyyU/n+lRWe6ezupzhI+0QQS6cbAgOZgafCIty6ZdypH5E+78t59Lv9TwVKUXDVeia2imNT/SY5n0Vy77Afa29PJs+ultmjJE+aXOSnQrU8jPs4ftcrdnNF30FTQV58c19z3LdWJEEHdVks3QgJ5+3hxtmC6SieGBXAE+0XqWEIhbDCYH+ZwFyT9P+04pRKIDadLge1+lxaT52SnUuv6o/mPz5c16b9h/d9CMZfTd7k4PmJdIW1fS45PYX02Mo4QY5eDKFIoL00nrRgbh0axfuMP3uNgyi0cIFgzl92RhkS6Kc0TEYWhMKJYt0S98pMEEIZ+zICzFOYXdWm04NmnRaUqH6LdEt/0YzfknfbSFWtrYD5gYT9+n098fIWf7rs6Torgfyytz7nQi68TgPlwvDNXXG29HZhBGGikaG8JblSTUevOlbtcNHhOMG65Ho0O4DjZ4YoDJQT5nKfLO0f7TCpGYIJo4SOmoJwKfSPROlI+cv3V+ZfFK3bfn5Fl67n1K+4IqatkPGBBKH79E7yyi0N7dn61/CD008u7/J09QylN7bhzqGXozHveWjacD88poweOD+BzNE4Ou63NE1MeVg1kR+oOPNJgm5HOWQnVaazJ70qNaoltRtKKsuUxnLbl0ldK/oGffoxOl7Af08qD0J2jjazQ8WoPTLkwihqGJg+jVh3XSTHmJfXlCPKL1wJbPJPbFne3UxL68VUlCjRYBdhYyfVy7f25PCEM+pxcDe3FZV/4DMDp8Li1C7jk6oFic6xdME+NZjx3qPvS50OeUgpmFmTpoRms7fbyFZqdT9jH2A/g8em4GbV1JM0ZofHJfd0qZ1sPVSToj5NGkcKQdujc5nIex+V3r5cwEumlQo1Nzk9b+vbjdlvFAC5Mi8KAAE4UfeIugOnIueUIXh6fHpLsJ3OQjP17+cVv1th614fs9NGMpfb2j0wNmj6GtK2lhl+vJdW1hEmnRO6WeKZHIPHRMyGOmROCedqP4qvT3Ig0WMVE/S5saicxDx/r7cmN88EsTTBQ+mubv5FnlnU/7B9ME9uLcHS58l/QY5eXoMou0LdHtzqN5mbT6B6pvZj9g9AD675v05jzydNHyEnfw9JgcOAiY6VE9WsoOlEyL4tkJMGy8G1m5Io2OVz+fi+3NxQ7FujUtCikymC78tJs/luJc99MFngl5ZriHwgb2pxtOv3/2fc0uXXCRXv6Y/vEZnatiPyAygNY8R+89T1GBmp3ZGB6I5mGZNF1xt2dmROOXXze+zRNdblDYK8LDnvlHok1IJyO0XGwZPxcNHtozovEnis4MC+BGeuM3JpgufDrN3IlSOqS4x0P/EEqMU+etqjtGZBRlXGm9otZ1a2/Sim/oqf+jw4XsB3g40z/m0TdLacxAtU5oArgceqgfUhDdmBnDZ5Abd+l0teTPUuWe1uR4frQ355+TbVizYU2HxEV4cUZh7RIdeagfkmMwacjnzFwWy26tar51rNfYvwX9TT7SJmnrvtdVIqXPfqcZS+nXQ50esyCJtq6kh8eo2RLTMTaEF4U/wXssxoczOgRpRFfEUpae1gl9efH/W5RuzgD+m4k2fRSrcVpMcZjdn4+BoT33UAyvlxP+QAGThl9d5uy4SnFuQCiNj1X/BOnR6bZcW/nI1+Vf7726t9M3/HKQZiylz/8gqYz9gAcS6LcV9PyDJDDXv2UfHmiuLTcduIfdysoV1d5S+CHq5cTMj1e4b5HenBVJNlPkJlRGeGmcmrnZMfh29JCfC2dWf9xDMHXI58xZVqe7tarJ19aXtdeV5dBDBfS3f9HKTXS1nv1cw6Lo89fon09S757uqWpcIe6cB2PQ66q9mf14QdiqvEsnL0t2n1ftaRWwzt6eF8dPHSvwcWLc7JheztqUiCaH82J8UKPT3qOxeCCAGcBj12wdK1EeuzYwlMZpUJy745XwVwa6KgxxO3rj6H/K/nP/67OX6bX/0CufUGE5+ylCetGqp+mTlyk2VNOrm6bZ/fmhHvjR0EaYJ2cmhhl1qVUkU+1pTYrk9et8LuqAXtxVScLYHmz5MC+eh+GM2pkSweuvyYLPAMaCX1pmi6U4p+UuWKwluvqOerp5i/79PSWvoL357O90sqNXH6Yf/kmTlDcWM3ePD0JSoo0ncN+6k5UrutGi0NMa4Mp5NLab+8bj0JODtb+3fs4cfGu0EOzOmReH+wbmAfmceTpaTDlFCpHYMBqr5UzSqb5T5/aZKx+p76jP2JxCM5bSD52PpZs/kX5b1fXCxeYryA2//zT25GB+gBpbUVmzIxWSAxclSsHkeEN80hLDeCODUGfSTE9yaAADw8PXPPVgWisr1RLdf/jZR907Wbtk8mD68S16ZQ452rIfYBEm9OWNDcG4GXWNC+UlhuF2daWpTZaVp9zT+mAMz2Abcy0YKlBn71e4Y+FQAUaCghnBh9UMHS2mI4rFubi+NGZAT04Z7BDM0us66pTycXFhtPYVWplCwb49uZy5WDCU39cTPyPdi/DiPDUElYxuZOWKmtoUelpDPTizDThxksehp4dh+RK1TI3kjcGaO2BW8LvKDKluCKHhtFYW5TVvfusVfsNZPrY3oObr/mV3v/DzpLf+RuuX0NDInl7LrDybIMCmEV3zsGeeTRAYuxWm7sAFyZFLKj2tBh+bFeDKwTerW4P8uY91N6IRwNQgnzM3R4roaLFCJL4vje5Bca65lT78mR5+i/48nn5IeQRexshTbfYcWvwQ/bqCpg9nPYFl87BnFo8QcPGD0gk+l54fgZS3Gzduy7LyOpSCcwbwQ4wxjXqQPxfTfboQ5sF5fgRSXjA/+DVlbliKcz0YOfftXzRjGX2z885Xs0oDZpzvI/96tWNLxrv29NRU7S9h/sI8OS+OxPOd3YsjBVjbpVub8kStigPnIr05RtzfdmJf3kxsbcemlxPnhVECHj7RYIbwsTUrOYV0rEQhMiicRvXX5lS7TtKjGfTeT9R0Wz6cdlC51Pd+5drTDae1uYQFifPjPodeKhXPjxAM7MGiaFbir3Pi3MvG72lVMrMfPykSKZ0Cd3vm5dECV1sUm8EsIZ8zK5t0Ma31VBm9+BG9+TmVsUxfjbnuuqRshFKQfccIKzM8kPvMcKR09z2bIBgWgGSuGzVNLHNaH4vlm8I800dj+VMjkNLd5W7PpI4R+GKTVjBbxn+mgLoOF9JxxeLc4Aga2U+DM1TXUcbXlPJv5emx93i50tLk9H9s72On0OuaXZ39Y+WPmrbX8owIQpXurudHCBICkcx1LytPJJEqRPr34k41mcLYY3H86VGm0hgjcrdnXhtr4+eCX4hgxvDxNR+qI+fUX8tXJKZPf6MZy2hrDvsBDEMp02jrSpo1ms/hp0WnKb2eWZSpUWMt1fBA7iujrXp6BJ9Lfx+DypxatpeKz1Qr9LRyOcbvaVXyyED+nAGm1SQDC3LnLJ9go93euACmQ0+/lxqyXx/Ry9HWNihx+d4G/VzCyhwqoBOlCpEhahfnNu+nGctoY3anBzw4graupGdnEO/uL+n5gfMn+Cgki2XNZSuKVmjYaMsU58ddmmjjbpUzOj3smTcTbTBmTh2V9dLvVHpak+P4JtijNyOaZ7XLBw7szX0z0cbd3uS+KQCa0k8+15y98dOcmua2too9677spCBkDZrLsz9eMnt8VLCnLcO3dfMNjps0f8n72eXNmp+KpTinxsi5A6fpiVX0r2/peidZdUI0ffE6pT1Bvu5Kr6guL7yyeOW5W+fUa66FC/PkLJtoE25lSw1HeHGWTbTBbFY1qQ6bi/fjTuhrop2b40J5qWMFjjbWldZM6Mv7+xiB0ES/JwCaYWQyWfdHaaotO8V/2sY6IiLf53ZXrxuv+0voWvnva7491UY8l+GPLx7vp4MTNhxZs/CJ5VvK2lRfEobOWr0la3E/obrnOniGXl2rEBkaSWtf6eotJZdowzba3/m81DA/WphEE+K7OMeSU0vWnle47hz/Od8M+0aNFluLL46J9l0QG7sVhjAu1HpLOFrYWiTefFohnxPymVVJNh6mXQe6eku24VjH2WvS7g81f/Pj+ZPCkcqB5dBPPkdUvn3lmu9KGlxiFyxNHe+jjyvo2J7neyV+WkO8yNQDxat7vm5u6drEUS/sqSMiIp7QNzIyyIFqzpeU1/0vvQtduO3IhiQP9c727Ht08qxC5KOXKCGa/eC6RtqwjTbv7/RsLg60MIkeS+z2sk2ipujt0XXtdfLBn0b8NL3XdDUabS3+Oif+70nlSoyFeXIwH3uzqu/CDenbO9qVgguHCsxl/6hNuaKdZy35rxRfJ+apIQKDbZsLYBj6ekYHTV32iXmtQavLx1f52pfS7iRzwtjFG79eMa+fCxFRW0125vz57+6pFxOVZS3/NDUpTY29sw6cUU7mhkZ1msx9kU0btlFH5/+YJyZTShLZqVUadOI7pUenv5T3knwwozAD+Zy8CX15IR6cb06KyuossKoR5sl5PJ4fiF3JNZGVq5zfDwvgmksyR0Tz4/mhHpxNKrvNWoYxIbwnBvH5ZvPdAFAXHtNERNSQs6ewXmdny/9248F6IiKPpE+2fHI3mSMioW/Syg2Zo+7kUm0l27NLOjuDvCz1dmv9PYceXEbrfus0mZs6lDa/TS/NUjOZu+PpkKdHeCgsR1fQWLCmdI36Z7AGQW6c9Ek2D8ZYWgVB6oLvAAAgAElEQVTroX78tIk2SOY08vMZ5cze0YZJjjezruphAdxVSTYWtiSNqy3z/AjBwqFI5sAy6elJXbN2ki3DMAxjO/sbuZH4e18I5jMMwzBRy3PE1HBi4wsz4oI9bW0d3Xr1T0x5J7tcZbBZSWYcwzAMw7gtyiZqK/ll5fzxUb0cbW1dewUnTHvh3yxv2fLE3UuPeEc5Xyr/OPHua4982ybfJNcRK4+0ERGJS9Yk3Lmg7fyfWIa+qSV2WU7J4axVC5P/viw5UOm1oIThQXf+r+1yeU23RcH9pylXcQrCsCgarlicO1pMKf+mt7+mKwodo/cNCqdPX6XMBRSoTc93eozyxIiMooyqliotTmXZZvfnvzXZJsrbErKfaB/O25NtZmFLKA2VXpP+Vqj8U50cz3cWmvSwOVZOQubZBMHiEQIvB/NrvKrEvrx/TRdinR2wYMZ6Xre1HVw+fsbK/LszPdtqCvZsLNiTffCT3VsXs6+1KW7LeWfa9PQ99XefljXlR2rWHsn+9qfUzdmrx6s5EM1QhIEJ895MmMf62r1/HU+NOhlLcU5uWuuFatq4jXae7PTtfbwpZRolDe3+Qp0b7Tl6QfCCLy5+cS/SIe3IKMpYP3h9T05rkYLdOW8k2uy7IP61QHyzxSz7qtztmIf68c2oc9CkqPa0jgrmmnWVa2gAd0gf7pYCkWqeai6ivDkz+/HDMVoOLJ2R8rlb+StfzilxiEwYFRnk0FZ8ZE9+VRsR1Wxf8sLnSbufC2J5S+naF37aQ4EJSbFBrlRffGJPfkUbEdWfWDNnQWTu1oVs71FDUNLidJd6ccXej7JyGoh4rgmPPz/On4hsoyI06JdUW0Nefvmd/xNGRnazSvy+U5R3XiEyPJqGRRERNbXQxm2UpbL91z22NpQyjZ6c3MPm3pEenf5D5Q+3xfd3ev2m4pu5feYmenc/qcIKjQ3hjQri/V4k/qNE1MVQRlNjw6PpUfwHonkcSyjHGMH3+aJL9Qo9re525tfTqophaHZ//uhg3u/F4n1l5vOBJvJ34UyP4g0353waQH1Gyueqcmqmbiz+aF7QnZSpOX/ljMTle+uJ2nK+21L+XKpqclZ/onzce3l7Xoy9OxhNXJO9dM78f+fUE9VvX7n2YPLqUVqlX4FJqWlJJN7zwn+zchqIyGf40ytW9Hx+a2fy136x6043rmvSY0m+XR+smq7dKc5t2kUbtlFza6dvfHQ8LZxGrg49aak8b6F3enT6P07/Qz6YUZSBfK4zXA491I83MZy7vUS886ykTWzStTpbPjMpnDs1gmcnQCqnpYIaaXYJS0+rHd9CbqmnA7NgCH9iX+6fpeKDFyXdv8Go/Fw4U8J5o1FmBmtipBK0x+wV7/0vmSMih9jUN+cF8YiI2gry89nGrQknLvvkXjJHRDzfpHc3ZY4TEhGJy7f8kqfvJutAc87yZ1bktBERCYenLn+sy3Ru7ynKVyzOJcRQQzM9/BZ9sLnTZC4xjr5NoyVzdZjM3fFS35fiXOPkI8dvHF9Xtk63V7Ew9gJmzgD+x7OEc2P5pjkIyduReTSW//FM4ez+fCRzWpPKKCu3QymYGMYb5G9p+YS/C+fpYYJ3HxBODucJTPIfF+HFeX6EYFWSDZI5sDZGqs95BvooVtOE/SKDeFQuJmqrr28mUqm12fr5qqQ/QUkPxAn35rQR1ZzKL6cELbtcDaOtZO28OStPtBER+SSt/mJZbNf3XnXk3M0mWrah0+P7BVPKNBoR09N2di49Ov2hQw/JRzIKM+b6z3W3Ud5bAuTZ8GhaJG9aJO/EZcmhi5L8KyZR24jz444M4lpewmEUWbmi6iaFEqyPoyX0tHbmzr9uzgD+gYviw+WSizdMYqWecaG8UcFc7F8CVstk5q8JXe+ncGqP0HD1uDths622vEZMQSbzr1HWkLPykTnLd9UQEXmMX/Fj1uKILo/fm0+nypSDpZXsB/u4Uco0emikDtrZpcm+kx8LeOy7S9/dizSKGjOKMj6M+1Dfl7YMg/25g/25N27LjlVKTl6WGGW9ulAPzmB/7tAArptV7j+rD3lVkl3nWHpaeZaeV9jwaGJf3sS+vIs3pMcrJScvS641G2FcQZwf985H2uJvOEDXTDYD0lBrm7aLi+hfxZYXZiWvzW8jImHgrNVbshbHdjfUT3W3VlZcDqVMo4XTyFAj2NOi036o/EEqu5+IrL+wfm6fuQkeCYZpgAVwt2eSInlJkbxrzbLT1ZKCGmlxraRDnzU7AZeifbgxvpwBvbim2e1rvtrFLHNap0TwBvSyosJnsDsn2J3zaCz/wg3pmWppYY3kvJ7/VnG1ZaJ9OP16cQf24tpabBkUQDOWks/ZCvUxGbXn2k6smf3IkuwKIiLXwYs3bPlkVrebw+7Jo9MXuj/1zFGUMo28XXveSPUF2QelRae9Xfi2fDCjKOPPMX8ashmWwcuBmdiXN7EvEdHZa9LzddKLN6QVN6V1t3VQ5PC0ZwLcOCHunDBPTl9PFC70JStXdF3x++XvwpkXZ6UpRog7J8SdM7Mfr6VDdva6tKxOWn5DWlEva27XwUfa34UT6MaEuHP6enL8XPCRBlBm3vlcfV3tnf8R+gT5/u+fIiRbojaiNqPX7Gp+XzLtiTX5DUQkDJq5+uf/Lo5VZ5bC2t+6OWBkP0qZRjHGGS74RuQbP1b+WNJ0f63m/df2f1n+5VNBTxmlPZYh3Itzb32s2x2yK42y2luy683SGy2yhlZqapPd7pC1ieh2h8LvRXsBI+STg4BxFJKrLeNmx3g5cLwdmd7OjD0mN+jfsUuSfRdYelqN0hiTYidgYntzY3vfLVLeaJHVNMquNkuvN8tutsgaWmW32qmlQ9YmplaRwkfa0Yax5ZODDeMkZFxtGQ97xsuB8XFiejtz0J0K0DWzyedaq2pqiBSnRJRn/553J2XzHRh7L7tx8XAhqieikoKSBpKbEktUU666nYSetOV/mjz771vK24h4rgmvbtq8KslXnZu9O48u1Xb6arg/pUyjcbG6a6c20qLT5h1RWCw5ozBjbp+5dlw7YzXJktgLmL6eTF9PIrKiPjuz09wuy8pT7ml9IJpnGRuE6Ja7HeNux8Rge0kAfTKbH7C2XStf+DT//t5h4prs1+en7W0jIuIFzZp5fymNqH6Rd3dI3b56+faae/GaXUte+7LcII2t2fN6YuJLW8rbiISRyesO735XvWSOiBLj6NNXKaKPctzNkV57lLKWGz2ZI6KZfjMf7P2gfKS2rTajMMNY7QEwvKw8UUOrQm0p2J3z8AAU5wDAOMymPuc6PKj29bjgdxOGxwa5Uk3xiZw7W0oQkevUZYvlFhN2eSB5tkd2Vh1RW/7aGdF7Rg2P9KCGsvycAoobFUl7lTd1vXMOX1eiCiKqPfL58uV/EvGCkl5cmODCdmy3arPXfJxzZ18yoZ9r/fblyds7+Uc9sGLDU5HK0cERNC5WYTZrXz/64h8kFGjVGr1Ij0n/7YpCv/CH5z6c22durKvx000AfTt4UXK4XHkOS7K1DpsDAFNgNvkchS7+90ya/vqe7Ioc+bDr4NTNXyhu9uUxL/O97JwFWeViInF9yd7sOxmc78wNmaO+nba3hKXLlRebNDN2RX5+m7g+58uVOUQkTHB9TNt8Tk5bWU62ysIj9wQFprJEfztMnyoOoTtXRW+sp1UpZGcqsz6inKJej3z93ZJ35YOZRZlbRm4xVpMADONmC0tP66z+/DDMOwEA4zGfBxBPmPDqttwfVySPi/R1IKGLb9DgpMXvbss9sHq8h/KxQY9vOrzzk8UPxAZ5CIVCoW/k+ORV2w5/u7CLBepi3/w567WkWD8TSJjshSzrjxwqoEVrqPKaMRrELj06PcA+QD6yvWb7D5U/GKs9AIaRlSdqUZyYEu7FeSjGfP42BgBLxMhkJr2zZElmXFR6PhG5Pr3t5vokYzfHUE6V0dLP6VqDctzDmVY9TXFhxmgTi28vfbvw+EL5SLBDcOHUQoYwuRIs054y8VfHlYtzGVNsAt3M529jALBEeAaZpIGh9NkSigxQjtc10jOraddJY7SJxbyAeZN8JslHLjZfzCzKNFZ7APTq6i2Z6urBcwfykcwBgNGhj6AbbXvXvPBlvlqrnPBin1+XmqCrDlt/T1qfSks30MEzCnEZ0ZufU10jPZaooyv1SHp0+s7anfKRd4rfmes/N9wp3FhNAtCTrDyRSHEWRIwvd1oUnqIAYHx4EnWjrWJP1jfZauVzDq1JH6Xqct8rWxt6fzGt3ES/HFR+ac2PVNdIL87S4dW0E+8W/2LYix+f/1g+mFGUkTU8y1hNAtCHHWfFp64oZHMMgzmtAGAq0E1g8pbNp6ens8S/3kH//NLgrWGRHpPuJfSSj2yp2rL1ylZjtQdA56oapao9rclx/N7OGCoKACYB+Vw3XJ7a1ipTz62f56mznZcWnnmA3pzHEt92lBZ/SI239XNVdTnwHNKj05WCGUVYXhgsh2oyF9ubOykc/RsAYCpMfX4r3LfvFC3dQB3Kv1cotDetTKGQXsZo032T9k06eF2hXzijX8ZrEa8Zqz0AuvJHsfjHUwo/dwIerUoSejmgOAcApgL1OfMxdiCtT6VeKqvtlV2hZ9bQcdZ9LwyHpURXmFHZUsl6MIC5KL8pVUrmiCg5jo9kDgBMCvI5sxITROtTqX+IcryhmZ7/gLKPGqNNd430HJkSnCIfEcvE2NQVzJ1qT+uQPtxxoehpBQDTgnzO3Pi40fpUGs+2TWr6l/TfnSxxQ0mLSXPkOcpHsi5l7ardZaz2APTQLwWic9el8hF7AZMcjzmtAGBykM+ZIR6X3n2WHhnL8tJHP9N7Pxm8QXd52Xilx2BiBFiIc9elvxSIlYLz4/mutuhpBQCTw33rrbeM3QbQyoh+xOPSibPK8YKLVHGVEuOM0SYa4j5kR+2O6tbqe5Hq1moXgcsQ9yFGaQ+A1j462NHQqjBdbGQQd2Y/FOcAwBShPmfOFiRR2hMs8Z0n6Jk1dKPR4A0iIkqLTlOKZBZlXm+/bpTGAGjnx1Oi8psKPa2utuhpBQDThXzOzD04gj58kexVdhnLPUeL1tDZy4Zv0SSfSfMCFFbLaxI1odcVzEhRrfSPYuWe1uR4vr0APa0AYKKQz5m/ETG0fgkFeCvHL12lRavpcKHhW5Qenc5luPKRDRc2HLp+yPAtAdCC6pzWcaG8IX24rAcDAJgC5HMWIdyf1i+h+L7K8dtt9PLH9NthAzcnwD5AdTm6zKJMAzcDQAtZuaKqRoWeVi8H9LQCgKlDPmcp3J3os1SaPJjlpcz/0sZsAzfn9cjXo5yj5CMHrh/44uIXBm4GgEZOXZHsOMvS0ypAbQ4ATBvyOcuyMoXmTWCJf/obvfudgdvCuqlrs7jZwM0AUJNIQll5yj2tk8J5sb2RzQGAqcN6JRZneDQJbeiYyvZfRRVUdoXGxRLHQEl8hFNEcVNxaVPpvcht8e12aftEn4mGaQCARr45KSqsVehp7e3MeXW0gMEsCAAweajPWaInJlHGApb4nnxatIZqbxqsIaoluo/OfZRXn2ewBgCo6XilZE8ZS08rkjkAMAvI5yxU0lBa9wq5OCjHz1ygRWuosNwwrYhwingj8g2lIDZ1BVNzu0P2rUpP67QoXowPnpAAYB7wtLJcQyJpfSqF9laOV9fRojW075RhWpEekx5kHyQf2VG747tLhh7MB9CFrDzRzRaFrSAC3ThzB2JOKwCYDeRzFi24F32WSsOilOMdIlryKW3eb4AmMMSwbuoqlUlZjwcwsMPlkkMXJUrB5DgkcwBgTjAfwtIJBZQ0jK7U0fkq5ZcOFZCMaFC4vpsQ4xyTW59b1lx2L9IgapDIJGO9xur70gBda2iVfXCgo0MxnXuoH39UMOa0AoA5YWQyWfdHgQX4eAt9vYMlPnMULZuv74vn1+cn/JWgFMybnBfpFKnvSwN0Ye3hjmOXFLK5ME9O2kQbY7UHAEA7qM9ZjaGR5GhHR4qU46WVVFJJYwYQn6e/i/va+jaLm4/dOCYfvNp+dY7/HP1dFKBr+y6I/yhSntP60iiBqx0mtQKAmcH4OWvyWCK98zSpLsBw8AwtWkOXr+n14mnRaT5CH/nIr1W//lr1q14vCtCZ680y1X1aHx7AD3bHUxEAzA+eXFZm4iBan0qezsrxkkv0zBrKL2N7j27Y8+xZd4zQ3xUBupCVJ2pXrM1FeXMeiNZjlRoAQH+Qz1mf2DD6bAlF9FGOX2ugZ1bTX7n6u/JTwU+N8RojHylpKvm/kv/T3xUBWO06J86rUpnTGo85rQBgrjAfwlq1tNPSz+lQActLS+bSo+P1dNnDdYcn7FXYYZbDcIqmFgXaB+rpigBKqptkS7e1SRWffPPi+FMiUJwDAHOF+RDWis+jKUPoWgOVViq/lFNEHWIaopeZp33s+lxrvya/5ZeMZDc7bj7Y+0F9XA5A1X9yOq7eUsjmBvTiPjEIxTkAMGPob7Vuyx+nlGks8a/+pLe+0tM106PTnfkKA/i+u/Tdjlq2tVQAdC27RFxQo7CWNY+DnlYAMHvI56zeszPojXks8T+O0AsfUlOLzi/oYeORFp2mFMwszNT5hQCUXKqXfp+vPKc1OZ7v44gFSgDAvCGfA6I5Y+jfz7GsP3e0mJ5ZTeU1Or/g4rDFg90Gy0dy63M/OveRzi8EIE91gZLB/tzEMAybAwCzh3wOiIho3EBan0q+7srx81do0Ro6UarzC6pu6ppZlHm17arOLwRwx2+F4tJrCj2tdnwGPa0AYBkwvxXk1NygpRuo4CLLS5kLaOpQ3V7t6RNPb6rYJB9ZGLzwk/hPdHsV83WrXXazRdbQKmtqo9sdslYRdUhkEilJZcRhiMshAZex5ZO9gHESkost427HONig35BdWZ00Y2e7UvDpYQLs0woAlgH5HCgSiWnpBtqbz/LSy7Pp8Uk6vNTllsvR26NFUoUusJ1jd47yHKXDq5iLdjFdvCG9VC+93CC90iirvSVr6dD4Z9NewPg4Mb2dmT4unAA3Tog7h4cSPBERvb2j/cINheJcQiD32QSBsdoDAKBbyOeAzf99Rz/tY4knT6RXdbnj6urS1WkFCnMjRnqO3DV2lw4vYcpkMiqolRTXSkuvSS8qZhu6EubJifDiRHlzo32sN7PbfFq0VXGfVmchs2qajSPKmQBgKZDPQSc2bqNPt7LEpwyhFQt1eJ3BOwcXNhbKRz6O+zglJEWHlzA17WI6eVmSVyU5VS0RKW9SoC9CPg3sxY3z4w7y51pV0a7kqvSd3co9rc+PEAwLQE8rAFgO5HPQuV8P0YpvWOKDwmlVCrk56eQiv1/5/ZGcR+QjnjaeRVOLHPmOOjm/STldLcmpkBy7JJEa78eOz6VhAdzhgbwY66jYLd/eXlmvUPscE8JbOBTTIADAomB/COhcRB+KCqQDZ0ikuG959Q06WEADQ8nduZN3aiDcKbz0VmlJU8m9SIukpVXSOslHl2P1jKulQ7bzrGTD0Y5d5yRVDUb+E0oqo8p62eFyyYlKqUhK/i6WPMbuuzxRruI+rR72zKujbXiozQGAZUF9DrpTWklLP6fKa8pxB1ta9TQlRPf8CudunRvw5wCl4MHEg4PcBvX85MZVd1u286x4x1mxyf6ccRiaGsmbFM5ztbW0wWRnqiWr93UoBV8eLYj3QzYHAJYG9TnojoczJcZTcQXV3FSId4hp+zHycadw/x5ewd3GXUayg9cPygerWqseC3ish2c2opstss1nxJ8e7iir08tEB12REZ2/Lv2zVNwmogBXjg3PQrI6iZQ+ONDRrDhwbkJf3tQIrB4MABYI9TlQ29LPaedJlvjzD9GCqT0/fcz2mAvNF+QjG4ZsSA5I7vmZDUwio98KxFuLREYcJKcdPpdmRPMfjLGEjOfrk6Ld5xTGCfg6MauShFzL7VwGAGuG+hyoLTGebrVSYbly/EQpNd6mETE9PL2HjcevV36Vj5yqP/Vc2HMcxpx+Ax8ul3x4oCPvisTccjkiIqmMSq5KcyokTkLGz8WcbruSk5clqvu0Pjtc4Otkxv8oAIAuIJ8DTSREk42Ajpcox4sq6EI1jY8jjva9ddHO0fn1+eebz9+LNIoaxVLxOO9xWp/TkGpvyTYcE/1RLG5RTiTMzO0OOnFZcqVRFuzOsROYX/drq4g+ONDRqvhdmBrJm9DXEuqOAACs0N8Kmtt2lP75JUt8QAitepq8XbU+8amGU8N3DVcKnpx0MtpZB7Mu9Oqvc+KsPJHEpEfKacyGR8nx/LEhZpYGbTgmOnBBoae1jytnxVQbY7UHAMAAUJ8DzfX1owGhdLiA2hVrIFfraf8p6h9CXi7andhH6NMiaTl646h8sLat9mH/h7VurL7d7pB9flSUXWK6M1i1JpFS/hXptWZZP1+zWYL4SIXk5zPKBdLnRwg8Hcyv0AgAoD7U50BbF67Q0g10oVo5biOgVSk0Rnn9ETW1SlpjtsdUtyqcNmt41iy/WdqdUK+Ka6Ubj3dcb7bwHyJfJ2bBUEG4p6nndE1tsqXZ7U1tCt+OGdG8OQOwejAAWDjU50Bbbk40cRCVXqYrdQpxiYR2niAPZ4oM0OKsfA7fme+8rXqbfLC4qfjZ0Gd70lh92HVOvO5wR4vyAmcWqLmdDl6UuNgyQW4mndJ9cVx0QXF1mBAPzvMjBMZqDwCAwSCfgx4QCmjaMKqqo/NVyi8dLCAiig/X4qwDXQcerjtccbviXqSuvY7LcEd5jtK+qbr2bZ5oyxlx98dZkFNXpCIJRfuY6GK8By5KthYqf0deHClws0NPKwBYPvS3gi58tIX+u4MlPmsULZ2vxfmO1B0Zv3e8fIQhpnBqYbBDsHYN1K11hzuOXpJ0f5wlGhHEfWa4yVW8brTIlm5rbxUpPM1m97eQtfQAALqF+hzowtBIcrClI8XK8ZJKKr1MYwaQhvtl+tv513XU5d7MlQ/e7Lj5kN9DPWxpD3VI6L397XlVljWRVROXG2TlN2WD+3B7sDSN7m04KqqsV/imRHhxnh5mcnknAICeoD4HurPzBC3dwBKPCqRVKeTnqdHJbnbcjN4e3dDRIB/8ZeQvU3yn9KSNPdEqkq3Z13HuuvUmc/dEeHH+PtZGaBrFr93nxV+fUJ7TmjnVJsDVpEf7AQDoEJ53oDuTBtNnqeThrBwvrqBn1tDpMo1O5iZwS49OVwpmFGX0pIE90SYmJHP3lF6TrtnX3m4CAwhrb8mycpWTuUdj+UjmAMCq4JEHOhXflz5LpXB/5fjVelq0hnbnaXSy50KfG+o+VD6SX5//4bkPe9hGLUhl9MH+diRz8s5ek35woL374/QsK1ckVvy29PPlJkWaRuUQAMBQkM+BrgV40/olLNu5SqT0j8/oh70anYylRFeYUdtW25MGauHjgx3FV5HMKSuqlX500JjrtfxZKj5drTAxhcvQ/HisNgcAVgfzIUAPBDyaOpSu1tPZy8ov5RSSSEJDItQ8U5BD0OWWy6cbTt+LiGSiJlHTtF7TdNXYbn15XJRTYaWzWbtV3SRrbKOBvY2wiMnlBumHB5SzyccH8Qf0MtEVVQAA9Af1OdCbtCdoYRJL/Mvt9PbX6p8mPSbdhqOw+eaX5V/uv7a/h61T09Yi8d4yExgmZsL2nBf/XmSEW6Q6bC7ejzuhL3paAcAaoT4H+jQ4glwd6XChcvzcZSoop1H9yab7rjEnvpOAK9hzdY988OLti08GPanDlrI6Xin5SmXiJKgqvir1c+H0djbc34e/F4n3X1Aomgp59OoYGzuBKS2jAgBgKKjPgZ49PJbefZb4Kl1gR4romdVUodZIuL+H/72/S3/5SE5dzvoL63XVRla1TbKNx5DMqWvjUVHtLQMtfnTxhvSn08rfmuR4voc9kjkAsFLI50D/xsfSZ0vIx005fq6KFq2mk2fVOQfr2iWNokadNJDVlyc6lPYbgC60iGRfHTfQ3AjVntZhAdwxIehpBQDrhf5WMAhvVxo7kArK6ZrC+sDU2kF/HKE+3hTau+sT9HXse+7WueKm+1tQtEpaWyQtk30md/Gubyq+4RDHW+itaXs3nxYdLsccCM1cvy2TyijKW7/TEbacUZ6e4mjDvDpGIOShOAcA1gv1OTCUXh60PpXGDmR5aflG2rSr2xOkRacpRdadX3f8xnHWg4/fOD79wPRFJxadaTyjaUuLr0q3GmOAvwX4rVBcos+FXc5ek/5aqPytSY7nOwuRzAGAVUM+BwYk4NPq52jOGJaXPthMH2zu+t1hjmHLo5crBVV3jGgUNabmp47ZM2b31d1EVNBQoGkzv8vDsDntfZevx7uXpfKtGRXMTQjEAiUAYO2Qz4HBvTGPnp3BEt+0i9I2dv3WZVHLwhzD5CO7r+7+puKbe1+uv7A+env0urJ19yJnGjSrz/1SIL5Uj6WDtVdxk6WEphM/5Isqbip8a9zsmOQ4rB4MAIB8DowiZRotm88S336cnnuf6m918VbVXteMoowOacf+a/sT9ya+nPfyjfYb8q8WNGpQn6tukv1SgOJcT205I6pp0vFUkoIa6bYSlp5WLFACAEDI58BoZo6i9xeTrY1y/EQpLVpD56s6e9/D/g9P7zVdPlLVUjVy98gp+6fk1OWoHl/XXlfZUqlmo345g2RON3SbFktlLD2t48N4g/3R0woAQIR8DoxpVH9an0r+Xsrx8hpatIaOFHX2PtUSXdeD5NQcQldQIz1WiTmtunH0kqSoVmfd1ll5oupGhbN5O6KnFQDgPuRzYFSRAbQ+lWLDlOO3WujFj+j3I6xv6u8U8/fykepfRM0u1z+KUZzTJV3dz7wqya6zKj2tcXzVNaoBAKwW8jkwNk8X+iyVJsazvPT2V/TVn6rhi2//63Jbpx2yqtSZEpFbJdHrQhtWqKhWmn+lp/XOdjFLT+vkCChBw+AAAAydSURBVN7A3sjmAADuQz4HJoDD0DuL6NHxLC998gut/kE+8M7nyTExmT9FVqh/enX6W3eUYsE53duhUlfTVFae6HqzwtQKPxcOeloBAJQgnwOTsWQuvTCTJf79HnpjPUmlW6q2DPwhLMNli6YzJ8uay5pETV0cUFAjLb2G4pzuFddKi3tQ9TxWKdlXxtLT2rNGAQBYIORzYEr+NoXe+ptquOj07rnrBiUfST7L0aCbVV7XQ+h2n0dxTl/2aHtvm9tlqvu0To/iRfvgqQUAoAxPRjAx04fTJy+Tk92dr8QcafqY/EELtm71LunJWbsYQlfdKMurwrRWfTleKbnWrM1adFl5ooZWhTcGuXEeGYjiHAAAC+RzYHqGRdH6JRTsS0SZI0//e5jGG3ap6mII3cGLKM7plxZ3+FC55HC5cpKdHI9kDgCAHfI5MEmhvemzJTQ44u0Dsf/ZntDz83XR33q4AsU5/dp/QbM7XN/K0tM6sx+/ryeeVwAA7PB8BFPl6kCfvkpThz55JnTnt5P7NNn35GSd9bfmVkmUOvVA5xpaZWeqNUjpsnJFtzsUvil9PTkz+/F03S4AAMuBfA5Mm0xGRKMue+/ZNHXsJR+tT9Mh7ShqZNlw4gQ2hDCI45fVneW6t0x8XOWbgp5WAICuIZ8DE/bBZvrz+J3/7X3Lbvv3kxacVtlJQm2qJTqZjHIxE8Igci+rdZ+vNbP0tM4dyA9yw5MKAKAreEqCqdq0izbtUoqt/XP4in1x2p1PdQjdqWpJO+ZCGMTtDllBTfcluqxcUYdi4hfjw5kWhZ5WAIBuIJ8Dk/TncfpgM+srqcdivv11jK1Y4+2eVOtzZ6qxhrDhnKnppkS386xYaX8wBj2tAADqQT4HpufkWVq+sYvXZ54N2LtpavR1F43OqlqfK6xFZ6vhFHVZn7vSKFXtaU2O5/d2xjMKAKB7eFaCiSmvpaWfd3vUgKtuezdNfeC8v/onvtZ2rarl/vYS15plV29hZqvhVDVKb7Z0esOzcsVKr8X25k4KR08rAIBakM+BKbnVQks/p5u31DnWsYP/45ZxLx+PUv/08iW6c9iw1eDOXWe/59uKxUq1UgEXPa0AABpAPgem5N3v6bxmO7T+a++gD3cOVfNg+V0iym4gnzO0sjqWe15xU/rDKZaeVi8HxiCNAgCwBMjnwJRkLqA979Nrj1JMkPpvWpQf/vuPE7xv23Z75JnG+1MiypHPGVz5TZZ7rjpsbkgf7rhQ9LQCAGgA+RyYGCc7mjuOvnqDvn6T5o4nJ7W2hZhQ3mvvpinDr3h1fZh8fa6yAfmcoV1Syed+LRCfVeyEtRcwyXHoaQUA0AzyOTBV0YH02lza8x5lLqCE6G4PD2pw3LNpSnJhSBfHnLt1rlncTERXGqUSpHMG1yGhWrk5KOevS7cUsPS0utqhpxUAQDPI58DkTR1KH71Ev2TSounk59n1sRu2jUg7NLCLA+6U6GqaMLPVOGqa7ufRm/KUk7kRQdyRQRqvLAgAAMjnwEz4e9GiB+jXFfThizRlSBcHLj3c/8vfR3Jk7DWeO0PorjUjnzOOe2vE/HhKpDSE0cUWPa0AAFpCPgfmZkQMrVhIu9+jJXMpOpD1kEeLg/dumhJ600n1pTv1ubrbyOeM486dL6qV/lGsvNVachzfwQY9rQAA2kA+B+bJ2Z4eHU9fv0lfvUGPjCNHO6XXh1R77s2aMulib6X4nV2/uljYFvSqvkVGRFkqPa1jQ3lDA9DTCgCgJUYmwy82MH8yGW0/RtuP05EipVdenXj8P3Gl974UcoX1s+rf3tl+gW0tNNC3vp6cIHfOjlKF4pynA7MqSWiDJUoAALSFfA4sS+VV2n6Mso/Rlbp7sU8GlbyWeOLel7mTc7/cH4zNvozCzY5RLY6+MloQ54fiHACA9pDPgYU6VEDbj9GOu2lcdmjVwmmHGoQdRPTV0K8OnHjwVjs++UbAYUiqeOMn9uU9PgjTIAAAegT5HFi0hua75bqSS6XujQunH8rzuZEanlpZuMzYLQMiol7OzKokIQezIAAAegb5HFiHMxdp+7GOnTkLx/7VGNfbpfF3YzcIiIheG2fTzxezsgAAegr5HFgTqYy2H/tnaUa578/GbgpQUiTv0Vj0tAIA6ADyObA6MqIX1h2/5dLP2A2xRgzRS6MFWbkiewGTOdXG2M0BALAQWCEArA5DhGTOiOL9uNHe3Ip6rBcDAKAzGLkC1ghLnRmLkM8QkZBPEV54+AAA6AweqWCNhDzMqDQOITJpAAA9QD4H1shOYOwWWCvceQAAfUA+B9YI+74bC+48AIA+IJ8Da+QsRFZhHLjzAAD6gHwOrJGbHbIK48CdBwDQB+RzYI087JFVGAfuPACAPiCfA2vk7Yiswjhw5wEA9AH5HFgjXyd88o0Ddx4AQB/wbAVr5OPIYElhw7Plk5cD6nMAALqHfA6sVB9XfPgNDfccAEBP8HgFKxXshg+/oeGeAwDoCR6vYKVCPPDhNzTccwAAPcHjFaxUuCc+/IaGew4AoCd4vIKVcrVj/F3w+TecAFeOsy0mQwAA6AV+n4H1ivHB599wonG3AQD0Bk9YsF79e3GN3QQrMgB3GwBAb5DPgfWK9uE42qAH0BCchUykN542AAD6gicsWLVB/igaGQLuMwCAXiGfA6s2pA/yDEMYjPsMAKBPyOfAqkX7cLBDvL75OjFR6GwFANAnPGTB2o0Iwk6u+oU7DACgb8jnwNqNDkZXoH6Nwh0GANAz5HNg7dzsmBFBSDj0ZWQw1xXLCAMA6BnyOQAaH4oOQX1JxL0FANA/5HMAFObJwWq3+hDbmxvigYcMAIDe4VELQEQ0JQJlJN3DXQUAMAzkcwBERNE+nNjeKNHpUpwfF3tCAAAYBp62AHdNj0YxSZcewP0EADAU5HMAd4V5cMaEIAXRjXGhvBB3PF4AAAwED1yA+2b14wnQ6dpjNjya2Q+ZMQCA4SCfA7jP1Y6ZM4Bv7FaYvYcH8F2w5hwAgAEhnwNQMCWCh1H8PRHlw5kUjuIcAIBB4fcWgLLHYlGi09483D0AAINDPgegLNCNg5ROO/Pi+H1c8VQBADA0PHkBWEyN5A3yx8wIzQzpw8UCwgAARoF8DoDdU0P4ng4Y1K8uLwfmqSEoagIAGAfyOQB2jjZMylCBsVthNlKGCewFSH8BAIwD+RxApyK9Oag5qWPhUEGEFx4mAABGg0cwQFfGhfIejMGYsK481I8/JgRjDQEAjAn5HEA3ZvfnjwtFSscuMYw3C1tBAAAYG/I5gO49NYQ/PBAlKGUJgdwnB6M/GgDA+JDPAajluQTBYKxgImdIH+6zCZgvAgBgEhiZTGbsNgCYjbWHOo5VSozdCuMbFsB9fgSSOQAAU4F8DkAznx/tOHjRqlO60SG8lKHoZgUAMCHI5wA09m2e6M9SsbFbYRxJkbxHsRkaAICJQT4HoI3tJeLv8kXGboWhzYvjY0cvAAAThHwOQEsnL0s+PypqFVnFT5CdgHl6GD/eDzNCAABMEfI5AO1VN8m+ONZx7rrU2A3Rr3AvzsIhAh8nbOcFAGCikM8B9JRlD6fDgDkAANOHfA5AB/KqJFl5ouvNFvXT5OXAJMfzY3ujjxUAwNQhnwPQjQ4JfZ8v+uuchRTqJobzHh3I5yOXAwAwB8jnAHSp5Kr05zMisx5RF+7Fmd2fH+GFzWMAAMwG8jkA3dt3Qby1UFx328x+uDwdmBnR/DEhKMoBAJgZ5HMA+pJdIv6zVNzQagY/Yi62zNRI3lSsLQcAYJ6QzwHokUxGO8+Jd5aKr5tqrc7TgZkczpsUjkwOAMCMIZ8DMIRjlyT7LoiLak1oXF2ML2dsCG9IH/SuAgCYPeRzAIZzpVGaUyE5dklyzXgrm3g7MkP7cIcH8no7Y31gAAALgXwOwAjOXpPmXZGcviKtbjJQxa6XM2dgL06sHzfcExNXAQAsDfI5AGOqaZIVX5WUXpOevy692aLjH0Z3OybMkxPuxYny5vpity4AAMuFfA7AVNTdll26Ka1skFU3SWubZNebZS0iDX487fiMpwPj48T0duL4uzIBrhwPe+RwAABWAfkcgOlq6ZA1tFJTu+x2h6xVRB0SmURCUiIOQ1wOCbiMLZ/sBYyTDeNiS3YCZG8AAFYK+RwAAACAecPIaAAAAADzhnwOAAAAwLwhnwMAAAAwb8jnAAAAAMwb8jkAAAAA84Z8DgAAAMC8IZ8DAAAAMG/I5wAAAADMG/I5AAAAAPOGfA4AAADAvCGfAwAAADBvyOcAAAAAzBvyOQAAAADzhnwOAAAAwLz9P33YxSvzlSVkAAAAAElFTkSuQmCC)"
      ],
      "metadata": {
        "id": "EVLdkK1fXMWl"
      }
    },
    {
      "cell_type": "code",
      "source": [
        "model.get_weights()"
      ],
      "metadata": {
        "colab": {
          "base_uri": "https://localhost:8080/"
        },
        "id": "QMYmday5XNCW",
        "outputId": "827c6d85-cae2-44ef-94e9-9803e8097019"
      },
      "execution_count": 24,
      "outputs": [
        {
          "output_type": "execute_result",
          "data": {
            "text/plain": [
              "[array([[-0.07237196,  0.56556344,  0.43740094],\n",
              "        [-0.5245885 ,  0.13245857, -0.5101871 ]], dtype=float32),\n",
              " array([0., 0., 0.], dtype=float32),\n",
              " array([[-0.8827321 ],\n",
              "        [ 0.29002857],\n",
              "        [ 0.37785316]], dtype=float32),\n",
              " array([0.], dtype=float32)]"
            ]
          },
          "metadata": {},
          "execution_count": 24
        }
      ]
    },
    {
      "cell_type": "code",
      "source": [
        "# оптимизируем также MSE с помощью стохастического градиентного спуска\n",
        "\n",
        "model.compile(optimizer='sgd', loss='mse', metrics='mae')"
      ],
      "metadata": {
        "id": "MIOS6OsuXPtd"
      },
      "execution_count": 25,
      "outputs": []
    },
    {
      "cell_type": "code",
      "source": [
        "%%time\n",
        "model.fit(X_norm, y, epochs=200)"
      ],
      "metadata": {
        "id": "JtqNarLmX-F_"
      },
      "execution_count": null,
      "outputs": []
    },
    {
      "cell_type": "code",
      "source": [
        "# проверяем на новых данных\n",
        "test_X = [[4, 2],\n",
        "          [6, 2]]\n",
        "test_X = mms.transform(test_X)\n",
        "print(\"Предсказание нейронной сети: \")\n",
        "print(model.predict(np.array(test_X)))"
      ],
      "metadata": {
        "colab": {
          "base_uri": "https://localhost:8080/"
        },
        "id": "bw4lRl32X_54",
        "outputId": "5fa1da32-8db1-4342-e9ef-06bbd21a332e"
      },
      "execution_count": 27,
      "outputs": [
        {
          "output_type": "stream",
          "name": "stdout",
          "text": [
            "Предсказание нейронной сети: \n",
            "[[6.0000315]\n",
            " [8.000014 ]]\n"
          ]
        }
      ]
    },
    {
      "cell_type": "code",
      "source": [
        "# Проверяем на всех данных\n",
        "pd.DataFrame({\n",
        "    'x1': X[:, 0],\n",
        "    'x2': X[:, 1],\n",
        "    'true': np.squeeze(y),\n",
        "    'pred': np.squeeze(model.predict(X_norm))\n",
        "}).head(10)"
      ],
      "metadata": {
        "colab": {
          "base_uri": "https://localhost:8080/",
          "height": 363
        },
        "id": "UDbV1mrYYIXt",
        "outputId": "9bf77f1c-0f36-4898-efa3-a3d6b0d3b220"
      },
      "execution_count": 28,
      "outputs": [
        {
          "output_type": "execute_result",
          "data": {
            "text/plain": [
              "   x1  x2  true       pred\n",
              "0   4   5     9   9.000020\n",
              "1   5   3     8   8.000019\n",
              "2   1   4     5   5.000051\n",
              "3   1   9    10  10.000031\n",
              "4   9   7    16  15.999969\n",
              "5   9   1    10   9.999991\n",
              "6   5   8    13  13.000001\n",
              "7   8   4    12  11.999990\n",
              "8   4   1     5   5.000035\n",
              "9   7   4    11  10.999997"
            ],
            "text/html": [
              "\n",
              "  <div id=\"df-7ca2692c-fe92-4dae-9350-119e78537fbe\">\n",
              "    <div class=\"colab-df-container\">\n",
              "      <div>\n",
              "<style scoped>\n",
              "    .dataframe tbody tr th:only-of-type {\n",
              "        vertical-align: middle;\n",
              "    }\n",
              "\n",
              "    .dataframe tbody tr th {\n",
              "        vertical-align: top;\n",
              "    }\n",
              "\n",
              "    .dataframe thead th {\n",
              "        text-align: right;\n",
              "    }\n",
              "</style>\n",
              "<table border=\"1\" class=\"dataframe\">\n",
              "  <thead>\n",
              "    <tr style=\"text-align: right;\">\n",
              "      <th></th>\n",
              "      <th>x1</th>\n",
              "      <th>x2</th>\n",
              "      <th>true</th>\n",
              "      <th>pred</th>\n",
              "    </tr>\n",
              "  </thead>\n",
              "  <tbody>\n",
              "    <tr>\n",
              "      <th>0</th>\n",
              "      <td>4</td>\n",
              "      <td>5</td>\n",
              "      <td>9</td>\n",
              "      <td>9.000020</td>\n",
              "    </tr>\n",
              "    <tr>\n",
              "      <th>1</th>\n",
              "      <td>5</td>\n",
              "      <td>3</td>\n",
              "      <td>8</td>\n",
              "      <td>8.000019</td>\n",
              "    </tr>\n",
              "    <tr>\n",
              "      <th>2</th>\n",
              "      <td>1</td>\n",
              "      <td>4</td>\n",
              "      <td>5</td>\n",
              "      <td>5.000051</td>\n",
              "    </tr>\n",
              "    <tr>\n",
              "      <th>3</th>\n",
              "      <td>1</td>\n",
              "      <td>9</td>\n",
              "      <td>10</td>\n",
              "      <td>10.000031</td>\n",
              "    </tr>\n",
              "    <tr>\n",
              "      <th>4</th>\n",
              "      <td>9</td>\n",
              "      <td>7</td>\n",
              "      <td>16</td>\n",
              "      <td>15.999969</td>\n",
              "    </tr>\n",
              "    <tr>\n",
              "      <th>5</th>\n",
              "      <td>9</td>\n",
              "      <td>1</td>\n",
              "      <td>10</td>\n",
              "      <td>9.999991</td>\n",
              "    </tr>\n",
              "    <tr>\n",
              "      <th>6</th>\n",
              "      <td>5</td>\n",
              "      <td>8</td>\n",
              "      <td>13</td>\n",
              "      <td>13.000001</td>\n",
              "    </tr>\n",
              "    <tr>\n",
              "      <th>7</th>\n",
              "      <td>8</td>\n",
              "      <td>4</td>\n",
              "      <td>12</td>\n",
              "      <td>11.999990</td>\n",
              "    </tr>\n",
              "    <tr>\n",
              "      <th>8</th>\n",
              "      <td>4</td>\n",
              "      <td>1</td>\n",
              "      <td>5</td>\n",
              "      <td>5.000035</td>\n",
              "    </tr>\n",
              "    <tr>\n",
              "      <th>9</th>\n",
              "      <td>7</td>\n",
              "      <td>4</td>\n",
              "      <td>11</td>\n",
              "      <td>10.999997</td>\n",
              "    </tr>\n",
              "  </tbody>\n",
              "</table>\n",
              "</div>\n",
              "      <button class=\"colab-df-convert\" onclick=\"convertToInteractive('df-7ca2692c-fe92-4dae-9350-119e78537fbe')\"\n",
              "              title=\"Convert this dataframe to an interactive table.\"\n",
              "              style=\"display:none;\">\n",
              "        \n",
              "  <svg xmlns=\"http://www.w3.org/2000/svg\" height=\"24px\"viewBox=\"0 0 24 24\"\n",
              "       width=\"24px\">\n",
              "    <path d=\"M0 0h24v24H0V0z\" fill=\"none\"/>\n",
              "    <path d=\"M18.56 5.44l.94 2.06.94-2.06 2.06-.94-2.06-.94-.94-2.06-.94 2.06-2.06.94zm-11 1L8.5 8.5l.94-2.06 2.06-.94-2.06-.94L8.5 2.5l-.94 2.06-2.06.94zm10 10l.94 2.06.94-2.06 2.06-.94-2.06-.94-.94-2.06-.94 2.06-2.06.94z\"/><path d=\"M17.41 7.96l-1.37-1.37c-.4-.4-.92-.59-1.43-.59-.52 0-1.04.2-1.43.59L10.3 9.45l-7.72 7.72c-.78.78-.78 2.05 0 2.83L4 21.41c.39.39.9.59 1.41.59.51 0 1.02-.2 1.41-.59l7.78-7.78 2.81-2.81c.8-.78.8-2.07 0-2.86zM5.41 20L4 18.59l7.72-7.72 1.47 1.35L5.41 20z\"/>\n",
              "  </svg>\n",
              "      </button>\n",
              "      \n",
              "  <style>\n",
              "    .colab-df-container {\n",
              "      display:flex;\n",
              "      flex-wrap:wrap;\n",
              "      gap: 12px;\n",
              "    }\n",
              "\n",
              "    .colab-df-convert {\n",
              "      background-color: #E8F0FE;\n",
              "      border: none;\n",
              "      border-radius: 50%;\n",
              "      cursor: pointer;\n",
              "      display: none;\n",
              "      fill: #1967D2;\n",
              "      height: 32px;\n",
              "      padding: 0 0 0 0;\n",
              "      width: 32px;\n",
              "    }\n",
              "\n",
              "    .colab-df-convert:hover {\n",
              "      background-color: #E2EBFA;\n",
              "      box-shadow: 0px 1px 2px rgba(60, 64, 67, 0.3), 0px 1px 3px 1px rgba(60, 64, 67, 0.15);\n",
              "      fill: #174EA6;\n",
              "    }\n",
              "\n",
              "    [theme=dark] .colab-df-convert {\n",
              "      background-color: #3B4455;\n",
              "      fill: #D2E3FC;\n",
              "    }\n",
              "\n",
              "    [theme=dark] .colab-df-convert:hover {\n",
              "      background-color: #434B5C;\n",
              "      box-shadow: 0px 1px 3px 1px rgba(0, 0, 0, 0.15);\n",
              "      filter: drop-shadow(0px 1px 2px rgba(0, 0, 0, 0.3));\n",
              "      fill: #FFFFFF;\n",
              "    }\n",
              "  </style>\n",
              "\n",
              "      <script>\n",
              "        const buttonEl =\n",
              "          document.querySelector('#df-7ca2692c-fe92-4dae-9350-119e78537fbe button.colab-df-convert');\n",
              "        buttonEl.style.display =\n",
              "          google.colab.kernel.accessAllowed ? 'block' : 'none';\n",
              "\n",
              "        async function convertToInteractive(key) {\n",
              "          const element = document.querySelector('#df-7ca2692c-fe92-4dae-9350-119e78537fbe');\n",
              "          const dataTable =\n",
              "            await google.colab.kernel.invokeFunction('convertToInteractive',\n",
              "                                                     [key], {});\n",
              "          if (!dataTable) return;\n",
              "\n",
              "          const docLinkHtml = 'Like what you see? Visit the ' +\n",
              "            '<a target=\"_blank\" href=https://colab.research.google.com/notebooks/data_table.ipynb>data table notebook</a>'\n",
              "            + ' to learn more about interactive tables.';\n",
              "          element.innerHTML = '';\n",
              "          dataTable['output_type'] = 'display_data';\n",
              "          await google.colab.output.renderOutput(dataTable, element);\n",
              "          const docLink = document.createElement('div');\n",
              "          docLink.innerHTML = docLinkHtml;\n",
              "          element.appendChild(docLink);\n",
              "        }\n",
              "      </script>\n",
              "    </div>\n",
              "  </div>\n",
              "  "
            ]
          },
          "metadata": {},
          "execution_count": 28
        }
      ]
    },
    {
      "cell_type": "markdown",
      "source": [
        "# Сеть для классификации изображений"
      ],
      "metadata": {
        "id": "biBXfUvzZ1bK"
      }
    },
    {
      "cell_type": "code",
      "source": [
        "from keras.datasets import mnist\n",
        "\n",
        "(X_train, y_train), (X_test, y_test) = mnist.load_data() # размеры картинок 28 на 28 писелей\n",
        "\n",
        "X_train.shape, X_test.shape"
      ],
      "metadata": {
        "colab": {
          "base_uri": "https://localhost:8080/"
        },
        "id": "--Cb_YjqYPwz",
        "outputId": "38ad5c15-1b91-48cd-dba7-5faed9bb5f31"
      },
      "execution_count": 41,
      "outputs": [
        {
          "output_type": "execute_result",
          "data": {
            "text/plain": [
              "((60000, 28, 28), (10000, 28, 28))"
            ]
          },
          "metadata": {},
          "execution_count": 41
        }
      ]
    },
    {
      "cell_type": "markdown",
      "source": [
        "### Подготовка данных"
      ],
      "metadata": {
        "id": "Wpl7XTHBchZY"
      }
    },
    {
      "cell_type": "code",
      "source": [
        "import matplotlib.pyplot as plt\n",
        "\n",
        "fig, ax = plt.subplots(1, 5, figsize=(15, 10))\n",
        "\n",
        "for i in range(5):\n",
        "    ax[i].imshow(X_train[i], cmap='gray')\n",
        "    ax[i].axis('off')"
      ],
      "metadata": {
        "colab": {
          "base_uri": "https://localhost:8080/",
          "height": 175
        },
        "id": "5XXOIdarZ9GD",
        "outputId": "a15ede23-871c-4c4a-bbc7-e8561c743541"
      },
      "execution_count": 42,
      "outputs": [
        {
          "output_type": "display_data",
          "data": {
            "text/plain": [
              "<Figure size 1080x720 with 5 Axes>"
            ],
            "image/png": "[encoded data removed]"
          },
          "metadata": {
            "needs_background": "light"
          }
        }
      ]
    },
    {
      "cell_type": "code",
      "source": [
        "y_train[:5]"
      ],
      "metadata": {
        "colab": {
          "base_uri": "https://localhost:8080/"
        },
        "id": "mWm-13F-aAqu",
        "outputId": "8abbaf8c-0d40-4830-c200-f326436e5f5d"
      },
      "execution_count": 43,
      "outputs": [
        {
          "output_type": "execute_result",
          "data": {
            "text/plain": [
              "array([5, 0, 4, 1, 9], dtype=uint8)"
            ]
          },
          "metadata": {},
          "execution_count": 43
        }
      ]
    },
    {
      "cell_type": "code",
      "source": [
        "# оставим только значения 0 и 1 для бинарной классификации\n",
        "idxs = np.where((y_train == 0) | (y_train == 1))\n",
        "y_train = y_train[idxs]\n",
        "X_train = X_train[idxs]\n",
        "\n",
        "idxs = np.where((y_test == 0) | (y_test == 1))\n",
        "y_test = y_test[idxs]\n",
        "X_test = X_test[idxs]"
      ],
      "metadata": {
        "id": "1rSgRaUaaPLi"
      },
      "execution_count": 44,
      "outputs": []
    },
    {
      "cell_type": "code",
      "source": [
        "fig, ax = plt.subplots(1, 5, figsize=(15, 10))\n",
        "\n",
        "for i in range(5):\n",
        "    ax[i].imshow(X_train[i], cmap='gray')\n",
        "    ax[i].axis('off')"
      ],
      "metadata": {
        "colab": {
          "base_uri": "https://localhost:8080/",
          "height": 175
        },
        "id": "E96-Divoakon",
        "outputId": "34198132-e517-4d0b-98a6-6a175f9532be"
      },
      "execution_count": 45,
      "outputs": [
        {
          "output_type": "display_data",
          "data": {
            "text/plain": [
              "<Figure size 1080x720 with 5 Axes>"
            ],
            "image/png": "[encoded data removed]"
          },
          "metadata": {
            "needs_background": "light"
          }
        }
      ]
    },
    {
      "cell_type": "code",
      "source": [
        "# изображения представлены пикселями в диапазоне от 0 до 255, а для нейросети комфортней обучаться на диапазоне от 0 до 1\n",
        "print(X_train.min(), X_train.max())\n",
        "\n",
        "X_train = X_train / 255.0\n",
        "X_test = X_test / 255.0\n",
        "\n",
        "print(X_train.min(), X_train.max())"
      ],
      "metadata": {
        "colab": {
          "base_uri": "https://localhost:8080/"
        },
        "id": "O1G4qjq9anwK",
        "outputId": "d096b5a6-4a3d-4776-aaea-2e83df71d3ea"
      },
      "execution_count": 46,
      "outputs": [
        {
          "output_type": "stream",
          "name": "stdout",
          "text": [
            "0 255\n",
            "0.0 1.0\n"
          ]
        }
      ]
    },
    {
      "cell_type": "code",
      "source": [
        "y_train"
      ],
      "metadata": {
        "colab": {
          "base_uri": "https://localhost:8080/"
        },
        "id": "2X1j_Rczbi6k",
        "outputId": "0818a7c7-e6b3-49de-a7d5-b53895a0a23e"
      },
      "execution_count": 47,
      "outputs": [
        {
          "output_type": "execute_result",
          "data": {
            "text/plain": [
              "array([0, 1, 1, ..., 1, 0, 1], dtype=uint8)"
            ]
          },
          "metadata": {},
          "execution_count": 47
        }
      ]
    },
    {
      "cell_type": "code",
      "source": [
        "# метку класса - 2 столбика, где первый - это метка является ли изображение 0 классом, а второй столбик - является ли изображение 1 классом\n",
        "from keras.utils.np_utils import to_categorical\n",
        "\n",
        "y_train_cat = to_categorical(y_train)\n",
        "y_test_cat = to_categorical(y_test)\n",
        "\n",
        "y_train[:5]"
      ],
      "metadata": {
        "colab": {
          "base_uri": "https://localhost:8080/"
        },
        "id": "pNqBcZEfbTVN",
        "outputId": "2fc201a8-c659-4149-df23-e982d8887fd5"
      },
      "execution_count": 48,
      "outputs": [
        {
          "output_type": "execute_result",
          "data": {
            "text/plain": [
              "array([0, 1, 1, 1, 1], dtype=uint8)"
            ]
          },
          "metadata": {},
          "execution_count": 48
        }
      ]
    },
    {
      "cell_type": "code",
      "source": [
        "X_train[..., np.newaxis].shape"
      ],
      "metadata": {
        "colab": {
          "base_uri": "https://localhost:8080/"
        },
        "id": "GtwiTBZkcbNR",
        "outputId": "0cce3760-a557-42a6-f8f7-afe916f6f4c0"
      },
      "execution_count": 50,
      "outputs": [
        {
          "output_type": "execute_result",
          "data": {
            "text/plain": [
              "(12665, 28, 28, 1)"
            ]
          },
          "metadata": {},
          "execution_count": 50
        }
      ]
    },
    {
      "cell_type": "code",
      "source": [
        "# снизить размер изображений для упрощения работы сети\n",
        "import matplotlib.pyplot as plt\n",
        "\n",
        "\n",
        "X_train_resized = tf.image.resize(X_train[..., np.newaxis], (6, 6))[..., 0]\n",
        "X_test_resized = tf.image.resize(X_test[..., np.newaxis], (6, 6))[..., 0]\n",
        "\n",
        "fig, ax = plt.subplots(1, 5, figsize=(15, 10))\n",
        "\n",
        "for i in range(5):\n",
        "    ax[i].imshow(X_train_resized[i], cmap='gray')\n",
        "    ax[i].axis('off')"
      ],
      "metadata": {
        "colab": {
          "base_uri": "https://localhost:8080/",
          "height": 175
        },
        "id": "POrQx_pNcJj6",
        "outputId": "76b2aae1-3409-4dc8-fc45-47722cecb1ca"
      },
      "execution_count": 51,
      "outputs": [
        {
          "output_type": "display_data",
          "data": {
            "text/plain": [
              "<Figure size 1080x720 with 5 Axes>"
            ],
            "image/png": "[encoded data removed]"
          },
          "metadata": {
            "needs_background": "light"
          }
        }
      ]
    },
    {
      "cell_type": "markdown",
      "source": [
        "### Создание и обучение сети"
      ],
      "metadata": {
        "id": "5O2rez8ucmPS"
      }
    },
    {
      "cell_type": "code",
      "source": [
        "# на вход поступает изображение 6х6, нужно с ним что-то сделать, так как наша сетку пока не умеет работать с двумерным входом. Здесь нам поможет слой из keras Flatten,\n",
        "# который вытягивает изображение в один вектор, была картинка 6x6, а станет вектором с размерностью 36.\n",
        "\n",
        "from keras.layers import Flatten\n",
        "tf.random.set_seed(9)\n",
        "\n",
        "model = Sequential([\n",
        "    Flatten(input_shape=(6, 6)),\n",
        "    Dense(2, activation='sigmoid')\n",
        "])\n",
        "\n",
        "model.summary()"
      ],
      "metadata": {
        "colab": {
          "base_uri": "https://localhost:8080/"
        },
        "id": "fMtL5XrQcTGp",
        "outputId": "ccb720d5-06c2-4ce5-8db7-02ff506b23d1"
      },
      "execution_count": 52,
      "outputs": [
        {
          "output_type": "stream",
          "name": "stdout",
          "text": [
            "Model: \"sequential_5\"\n",
            "_________________________________________________________________\n",
            " Layer (type)                Output Shape              Param #   \n",
            "=================================================================\n",
            " flatten (Flatten)           (None, 36)                0         \n",
            "                                                                 \n",
            " dense_6 (Dense)             (None, 2)                 74        \n",
            "                                                                 \n",
            "=================================================================\n",
            "Total params: 74\n",
            "Trainable params: 74\n",
            "Non-trainable params: 0\n",
            "_________________________________________________________________\n"
          ]
        }
      ]
    },
    {
      "cell_type": "markdown",
      "source": [
        "![image.png](data:image/png;base64,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)"
      ],
      "metadata": {
        "id": "76ygoJNnexAG"
      }
    },
    {
      "cell_type": "code",
      "source": [
        "# оптимизируем binary_crossentropy при помоши sgd с метрикой accuracy\n",
        "model.compile(optimizer='sgd', loss='binary_crossentropy', metrics='accuracy')"
      ],
      "metadata": {
        "id": "xXG0h7Lpes2G"
      },
      "execution_count": 53,
      "outputs": []
    },
    {
      "cell_type": "code",
      "source": [
        "%%time\n",
        "model.fit(X_train_resized, y_train_cat, epochs=5)"
      ],
      "metadata": {
        "colab": {
          "base_uri": "https://localhost:8080/"
        },
        "id": "LjPsVwHwfOQd",
        "outputId": "4e7a6896-a8ac-4e66-bf26-95ea6c4af403"
      },
      "execution_count": 54,
      "outputs": [
        {
          "output_type": "stream",
          "name": "stdout",
          "text": [
            "Epoch 1/5\n",
            "396/396 [==============================] - 1s 2ms/step - loss: 0.6321 - accuracy: 0.8079\n",
            "Epoch 2/5\n",
            "396/396 [==============================] - 1s 1ms/step - loss: 0.4760 - accuracy: 0.9671\n",
            "Epoch 3/5\n",
            "396/396 [==============================] - 1s 1ms/step - loss: 0.3888 - accuracy: 0.9747\n",
            "Epoch 4/5\n",
            "396/396 [==============================] - 1s 1ms/step - loss: 0.3318 - accuracy: 0.9765\n",
            "Epoch 5/5\n",
            "396/396 [==============================] - 1s 1ms/step - loss: 0.2918 - accuracy: 0.9768\n",
            "CPU times: user 3.7 s, sys: 222 ms, total: 3.92 s\n",
            "Wall time: 5.6 s\n"
          ]
        },
        {
          "output_type": "execute_result",
          "data": {
            "text/plain": [
              "<keras.callbacks.History at 0x7f1d079b1510>"
            ]
          },
          "metadata": {},
          "execution_count": 54
        }
      ]
    },
    {
      "cell_type": "code",
      "source": [
        "print(\"Предсказание нейронной сети: \")\n",
        "pred = model.predict(X_test_resized[:1])\n",
        "pred # две вероятности для двух классов"
      ],
      "metadata": {
        "colab": {
          "base_uri": "https://localhost:8080/"
        },
        "id": "icjVHHo6fOsQ",
        "outputId": "4b50b36c-6417-493a-ef7e-60333f729c9e"
      },
      "execution_count": 55,
      "outputs": [
        {
          "output_type": "stream",
          "name": "stdout",
          "text": [
            "Предсказание нейронной сети: \n"
          ]
        },
        {
          "output_type": "execute_result",
          "data": {
            "text/plain": [
              "array([[0.23196417, 0.779374  ]], dtype=float32)"
            ]
          },
          "metadata": {},
          "execution_count": 55
        }
      ]
    },
    {
      "cell_type": "code",
      "source": [
        "# индекс класса с максимальной вероятностью\n",
        "pred_cls = pred.argmax()\n",
        "pred_cls"
      ],
      "metadata": {
        "colab": {
          "base_uri": "https://localhost:8080/"
        },
        "id": "VPloaTRefYwZ",
        "outputId": "c37aae37-3ddd-4c78-93d1-9b30d74a4473"
      },
      "execution_count": 56,
      "outputs": [
        {
          "output_type": "execute_result",
          "data": {
            "text/plain": [
              "1"
            ]
          },
          "metadata": {},
          "execution_count": 56
        }
      ]
    },
    {
      "cell_type": "code",
      "source": [
        "idx = 0\n",
        "plt.imshow(X_test_resized[idx])\n",
        "plt.title(f'pred {pred_cls}, true {y_test[idx]}');"
      ],
      "metadata": {
        "colab": {
          "base_uri": "https://localhost:8080/",
          "height": 281
        },
        "id": "YnYdl9mXfmSO",
        "outputId": "66be7132-04df-4ad1-d5ca-6d9741461a61"
      },
      "execution_count": 57,
      "outputs": [
        {
          "output_type": "display_data",
          "data": {
            "text/plain": [
              "<Figure size 432x288 with 1 Axes>"
            ],
            "image/png": "[encoded data removed]"
          },
          "metadata": {
            "needs_background": "light"
          }
        }
      ]
    },
    {
      "cell_type": "code",
      "source": [
        "plt.imshow(X_test[idx])\n",
        "plt.title(f'pred {pred_cls}, true {y_test[idx]}');"
      ],
      "metadata": {
        "colab": {
          "base_uri": "https://localhost:8080/",
          "height": 281
        },
        "id": "dFLNPLK5fojp",
        "outputId": "d9e2d9fa-a5c8-4f1f-992d-3140af448202"
      },
      "execution_count": 58,
      "outputs": [
        {
          "output_type": "display_data",
          "data": {
            "text/plain": [
              "<Figure size 432x288 with 1 Axes>"
            ],
            "image/png": "[encoded data removed]"
          },
          "metadata": {
            "needs_background": "light"
          }
        }
      ]
    },
    {
      "cell_type": "code",
      "source": [
        "preds = model.predict(X_test_resized)\n",
        "preds"
      ],
      "metadata": {
        "colab": {
          "base_uri": "https://localhost:8080/"
        },
        "id": "FGbED6ZNfqqc",
        "outputId": "ff4c98f8-c5e8-4d3d-cc01-d6081f2d269c"
      },
      "execution_count": 59,
      "outputs": [
        {
          "output_type": "execute_result",
          "data": {
            "text/plain": [
              "array([[0.23196417, 0.779374  ],\n",
              "       [0.87699807, 0.13391578],\n",
              "       [0.2039651 , 0.8257028 ],\n",
              "       ...,\n",
              "       [0.23160627, 0.8456099 ],\n",
              "       [0.8840015 , 0.19852799],\n",
              "       [0.19147992, 0.83787894]], dtype=float32)"
            ]
          },
          "metadata": {},
          "execution_count": 59
        }
      ]
    },
    {
      "cell_type": "code",
      "source": [
        "preds_cls = preds.argmax(axis=1)\n",
        "preds_cls"
      ],
      "metadata": {
        "colab": {
          "base_uri": "https://localhost:8080/"
        },
        "id": "7GSallCRfvjv",
        "outputId": "e08f6040-41a6-487c-841e-6c0c268805bf"
      },
      "execution_count": 60,
      "outputs": [
        {
          "output_type": "execute_result",
          "data": {
            "text/plain": [
              "array([1, 0, 1, ..., 1, 0, 1])"
            ]
          },
          "metadata": {},
          "execution_count": 60
        }
      ]
    },
    {
      "cell_type": "code",
      "source": [
        "from sklearn.metrics import accuracy_score\n",
        "\n",
        "print(f'test acc: {accuracy_score(y_test, preds_cls)*100:.2f}% ({(y_test == preds_cls).sum()} out of {y_test.shape[0]})')"
      ],
      "metadata": {
        "colab": {
          "base_uri": "https://localhost:8080/"
        },
        "id": "XQaAur0xfx1b",
        "outputId": "112f14ab-fdba-4c07-83f1-59aa28dfb9ec"
      },
      "execution_count": 61,
      "outputs": [
        {
          "output_type": "stream",
          "name": "stdout",
          "text": [
            "test acc: 98.25% (2078 out of 2115)\n"
          ]
        }
      ]
    },
    {
      "cell_type": "code",
      "source": [],
      "metadata": {
        "id": "Btg6APIef0p6"
      },
      "execution_count": null,
      "outputs": []
    }
  ]
}